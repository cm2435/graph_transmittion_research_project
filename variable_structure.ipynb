{
 "cells": [
  {
   "cell_type": "code",
   "execution_count": 1,
   "metadata": {},
   "outputs": [],
   "source": [
    "import numpy as np\n",
    "import pandas as pd\n",
    "import random\n",
    "import tqdm\n",
    "from scipy.optimize import curve_fit\n",
    "import matplotlib.pyplot as plt\n",
    "import seaborn as sns \n",
    "import yaml\n",
    "from pathlib import Path\n",
    "\n",
    "from util.functions import logistic\n",
    "from structure_generation.path_connection_gen import ProceduralGraphGenerator, StatsUtils, GraphStructureGenerator\n",
    "\n",
    "\n"
   ]
  },
  {
   "cell_type": "code",
   "execution_count": 2,
   "metadata": {},
   "outputs": [],
   "source": [
    "conf = yaml.safe_load(Path('config.yml').read_text())['reachability']"
   ]
  },
  {
   "cell_type": "code",
   "execution_count": 3,
   "metadata": {},
   "outputs": [],
   "source": [
    "geometric_graph_conf = conf['random_geometric']"
   ]
  },
  {
   "cell_type": "code",
   "execution_count": 4,
   "metadata": {},
   "outputs": [
    {
     "name": "stdout",
     "output_type": "stream",
     "text": [
      "simulation run for graph radius 0.025\n"
     ]
    },
    {
     "name": "stderr",
     "output_type": "stream",
     "text": [
      "5it [00:00, 46.10it/s]\n"
     ]
    },
    {
     "name": "stdout",
     "output_type": "stream",
     "text": [
      "simulation run for graph radius 0.05\n"
     ]
    },
    {
     "name": "stderr",
     "output_type": "stream",
     "text": [
      "0it [00:03, ?it/s]\n"
     ]
    },
    {
     "ename": "KeyboardInterrupt",
     "evalue": "",
     "output_type": "error",
     "traceback": [
      "\u001b[0;31m---------------------------------------------------------------------------\u001b[0m",
      "\u001b[0;31mKeyboardInterrupt\u001b[0m                         Traceback (most recent call last)",
      "Cell \u001b[0;32mIn[4], line 21\u001b[0m\n\u001b[1;32m     18\u001b[0m graph_rand \u001b[39m=\u001b[39m graphgen\u001b[39m.\u001b[39mget_graph_structure()\u001b[39m.\u001b[39minitial_adj_matrix\n\u001b[1;32m     20\u001b[0m x \u001b[39m=\u001b[39m ProceduralGraphGenerator(graph)\n\u001b[0;32m---> 21\u001b[0m infection_matrix_list, timesteps_saturation, fraction_infected_list, info_dict \u001b[39m=\u001b[39m x\u001b[39m.\u001b[39;49minfect_till_saturation(\n\u001b[1;32m     22\u001b[0m     modality\u001b[39m=\u001b[39;49mmodality, verbose\u001b[39m=\u001b[39;49m \u001b[39mFalse\u001b[39;49;00m\n\u001b[1;32m     23\u001b[0m )\n\u001b[1;32m     25\u001b[0m results_dict[\u001b[39m\"\u001b[39m\u001b[39mtimesteps_saturation\u001b[39m\u001b[39m\"\u001b[39m]\u001b[39m.\u001b[39mappend(timesteps_saturation)\n\u001b[1;32m     26\u001b[0m results_dict[\u001b[39m\"\u001b[39m\u001b[39mfraction_infected_list\u001b[39m\u001b[39m\"\u001b[39m]\u001b[39m.\u001b[39mappend(fraction_infected_list)\n",
      "File \u001b[0;32m~/Desktop/graph_transmittion_research_project/structure_generation/path_connection_gen.py:266\u001b[0m, in \u001b[0;36mProceduralGraphGenerator.infect_till_saturation\u001b[0;34m(self, infection_probability, max_iters, modality, verbose)\u001b[0m\n\u001b[1;32m    260\u001b[0m \u001b[39m#Update the graph structure to infect a new node\u001b[39;00m\n\u001b[1;32m    261\u001b[0m graph_structure \u001b[39m=\u001b[39m \u001b[39mself\u001b[39m\u001b[39m.\u001b[39mstructure_mutator\u001b[39m.\u001b[39m_next_structure(\n\u001b[1;32m    262\u001b[0m     sampling_graph\u001b[39m=\u001b[39mgiant_graph,\n\u001b[1;32m    263\u001b[0m     updating_graph\u001b[39m=\u001b[39minitial_graph,\n\u001b[1;32m    264\u001b[0m     modality\u001b[39m=\u001b[39mmodality,\n\u001b[1;32m    265\u001b[0m )\n\u001b[0;32m--> 266\u001b[0m nodepair_list \u001b[39m=\u001b[39m np\u001b[39m.\u001b[39mdstack(np\u001b[39m.\u001b[39;49mwhere(graph_structure \u001b[39m==\u001b[39;49m \u001b[39m1\u001b[39;49m))[\u001b[39m0\u001b[39m]\n\u001b[1;32m    267\u001b[0m \u001b[39mfor\u001b[39;00m pair \u001b[39min\u001b[39;00m nodepair_list:\n\u001b[1;32m    268\u001b[0m     \u001b[39mif\u001b[39;00m (\n\u001b[1;32m    269\u001b[0m         current_infection_arr[pair[\u001b[39m0\u001b[39m]]\n\u001b[1;32m    270\u001b[0m         \u001b[39mor\u001b[39;00m current_infection_arr[pair[\u001b[39m1\u001b[39m]] \u001b[39m==\u001b[39m \u001b[39m1\u001b[39m\n\u001b[1;32m    271\u001b[0m     ):\n\u001b[1;32m    272\u001b[0m         \u001b[39m# Do not always guarrentee infection\u001b[39;00m\n",
      "File \u001b[0;32m<__array_function__ internals>:180\u001b[0m, in \u001b[0;36mwhere\u001b[0;34m(*args, **kwargs)\u001b[0m\n",
      "\u001b[0;31mKeyboardInterrupt\u001b[0m: "
     ]
    }
   ],
   "source": [
    "results_dict_list = []\n",
    "modality = \"reversable\"\n",
    "for graph_rad in geometric_graph_conf['graph_edge_radii']:\n",
    "    results_dict = {\n",
    "        \"timesteps_saturation\" : [],\n",
    "        \"fraction_infected_list\" : [],\n",
    "        \"info_dict\" : []\n",
    "    }\n",
    "    print(f\"simulation run for graph radius {graph_rad}\")\n",
    "    mean_degree_simulation_runs = []\n",
    "    for i, repeat in tqdm.tqdm(enumerate(range(conf['num_simulation_runs']))):\n",
    "        graphgen = GraphStructureGenerator(\n",
    "            structure_name=geometric_graph_conf['structure_name'], \n",
    "            num_nodes=int(geometric_graph_conf['nodes']), \n",
    "            graph_edge_radius = float(graph_rad)\n",
    "        )\n",
    "        graph = graphgen.initial_adj_matrix\n",
    "        graph_rand = graphgen.get_graph_structure().initial_adj_matrix\n",
    "\n",
    "        x = ProceduralGraphGenerator(graph)\n",
    "        infection_matrix_list, timesteps_saturation, fraction_infected_list, info_dict = x.infect_till_saturation(\n",
    "            modality=modality, verbose= False\n",
    "        )\n",
    "\n",
    "        results_dict[\"timesteps_saturation\"].append(timesteps_saturation)\n",
    "        results_dict[\"fraction_infected_list\"].append(fraction_infected_list)\n",
    "        results_dict[\"info_dict\"].append(info_dict)\n",
    "    \n",
    "    results_dict_list.append(results_dict)"
   ]
  },
  {
   "cell_type": "code",
   "execution_count": null,
   "metadata": {},
   "outputs": [],
   "source": [
    "import itertools\n",
    "for result in tqdm.tqdm(results_dict_list): \n",
    "    for key in result.keys():\n",
    "        if key == \"fraction_infected_list\":\n",
    "            # Pad the list to ones to the longest saturation length, find the mean across all simulations and the std at each timestep\n",
    "            padded_list = np.array(\n",
    "                list(zip(*itertools.zip_longest(*result[key], fillvalue=1)))\n",
    "            )\n",
    "            result[key] = np.mean(padded_list, axis=0)\n",
    "        if key == \"info_dict\":\n",
    "            info_dict_temp = {k : None for k in result['info_dict'][0].keys()}\n",
    "            for key in info_dict_temp.keys():\n",
    "                if key == \"modality\":\n",
    "                    info_dict_temp[key] = result['info_dict'][0]['modality']\n",
    "                else:\n",
    "                    info_dict_temp[key] = np.average([x[key] for x in result['info_dict']])\n",
    "            result['info_dict'] = info_dict_temp\n",
    "        \n",
    "    result['average_timesteps'] = np.average(result['timesteps_saturation'])"
   ]
  },
  {
   "cell_type": "code",
   "execution_count": null,
   "metadata": {},
   "outputs": [],
   "source": [
    "for result in results_dict_list: \n",
    "    timesteps_list = [x for x in range(len(result['fraction_infected_list']))]\n",
    "\n",
    "    p, cov = curve_fit(logistic, timesteps_list, result['fraction_infected_list'])\n",
    "    logistic_curve_data = logistic(timesteps_list, *p)\n",
    "    print(\"run statistics\")\n",
    "    print(result['info_dict'])\n",
    "    plt.plot(timesteps_list, result['fraction_infected_list'], label = f\"average simulated saturation across {len(result['timesteps_saturation'])} runs\")\n",
    "    plt.plot(timesteps_list, logistic_curve_data, label = \"fitted logistic\")\n",
    "    plt.title(f\"saturation curve for modality {result['info_dict']['modality']} mean degree {round(result['info_dict']['average_degree'], 2)}\")\n",
    "    plt.legend()\n",
    "    plt.show()"
   ]
  },
  {
   "cell_type": "code",
   "execution_count": null,
   "metadata": {},
   "outputs": [],
   "source": [
    "results_dict_list = []\n",
    "modality = \"irreversable\"\n",
    "for graph_rad in geometric_graph_conf['graph_edge_radii']:\n",
    "    results_dict = {\n",
    "        \"timesteps_saturation\" : [],\n",
    "        \"fraction_infected_list\" : [],\n",
    "        \"info_dict\" : []\n",
    "    }\n",
    "    print(f\"simulation run for graph radius {graph_rad}\")\n",
    "    mean_degree_simulation_runs = []\n",
    "    for i, repeat in tqdm.tqdm(enumerate(range(conf['num_simulation_runs']))):\n",
    "        graphgen = GraphStructureGenerator(\n",
    "            structure_name=geometric_graph_conf['structure_name'], \n",
    "            num_nodes=int(geometric_graph_conf['nodes']), \n",
    "            graph_edge_radius = float(graph_rad)\n",
    "        )\n",
    "        graph = graphgen.initial_adj_matrix\n",
    "        graph_rand = graphgen.get_graph_structure().initial_adj_matrix\n",
    "\n",
    "        x = ProceduralGraphGenerator(graph)\n",
    "        infection_matrix_list, timesteps_saturation, fraction_infected_list, info_dict = x.infect_till_saturation(\n",
    "            modality=modality, verbose= False\n",
    "        )\n",
    "\n",
    "        results_dict[\"timesteps_saturation\"].append(timesteps_saturation)\n",
    "        results_dict[\"fraction_infected_list\"].append(fraction_infected_list)\n",
    "        results_dict[\"info_dict\"].append(info_dict)\n",
    "    \n",
    "    results_dict_list.append(results_dict)"
   ]
  },
  {
   "cell_type": "code",
   "execution_count": null,
   "metadata": {},
   "outputs": [],
   "source": [
    "import itertools\n",
    "for result in tqdm.tqdm(results_dict_list): \n",
    "    for key in result.keys():\n",
    "        if key == \"fraction_infected_list\":\n",
    "            # Pad the list to ones to the longest saturation length, find the mean across all simulations and the std at each timestep\n",
    "            padded_list = np.array(\n",
    "                list(zip(*itertools.zip_longest(*result[key], fillvalue=1)))\n",
    "            )\n",
    "            result[key] = np.mean(padded_list, axis=0)\n",
    "        if key == \"info_dict\":\n",
    "            info_dict_temp = {k : None for k in result['info_dict'][0].keys()}\n",
    "            for key in info_dict_temp.keys():\n",
    "                if key == \"modality\":\n",
    "                    info_dict_temp[key] = result['info_dict'][0]['modality']\n",
    "                else:\n",
    "                    info_dict_temp[key] = np.average([x[key] for x in result['info_dict']])\n",
    "            result['info_dict'] = info_dict_temp\n",
    "        \n",
    "    result['average_timesteps'] = np.average(result['timesteps_saturation'])"
   ]
  },
  {
   "cell_type": "code",
   "execution_count": null,
   "metadata": {},
   "outputs": [],
   "source": [
    "for result in results_dict_list: \n",
    "    timesteps_list = [x for x in range(len(result['fraction_infected_list']))]\n",
    "\n",
    "    p, cov = curve_fit(logistic, timesteps_list, result['fraction_infected_list'])\n",
    "    logistic_curve_data = logistic(timesteps_list, *p)\n",
    "    print(\"run statistics\")\n",
    "    print(result['info_dict'])\n",
    "    plt.plot(timesteps_list, result['fraction_infected_list'], label = f\"average simulated saturation across {len(result['timesteps_saturation'])} runs\")\n",
    "    plt.plot(timesteps_list, logistic_curve_data, label = \"fitted logistic\")\n",
    "    plt.title(f\"saturation curve for modality {result['info_dict']['modality']} mean degree {round(result['info_dict']['average_degree'], 2)}\")\n",
    "    plt.legend()\n",
    "    plt.show()"
   ]
  },
  {
   "cell_type": "code",
   "execution_count": 4,
   "metadata": {},
   "outputs": [
    {
     "data": {
      "text/plain": [
       "{'structure_name': 'barabasi_albert',\n",
       " 'nodes': 500,\n",
       " 'node_degree': [2, 5, 10, 20, 100]}"
      ]
     },
     "execution_count": 4,
     "metadata": {},
     "output_type": "execute_result"
    }
   ],
   "source": [
    "albert_graph_config = conf['barabasi_albert']\n",
    "albert_graph_config"
   ]
  },
  {
   "cell_type": "code",
   "execution_count": 6,
   "metadata": {},
   "outputs": [
    {
     "name": "stdout",
     "output_type": "stream",
     "text": [
      "simulation run for graph degree 2\n"
     ]
    },
    {
     "name": "stderr",
     "output_type": "stream",
     "text": [
      "0it [00:00, ?it/s]"
     ]
    },
    {
     "name": "stdout",
     "output_type": "stream",
     "text": [
      "Graph with 500 nodes and 996 edges\n",
      "Graph with 500 nodes and 996 edges\n"
     ]
    },
    {
     "name": "stderr",
     "output_type": "stream",
     "text": [
      "1it [00:09,  9.76s/it]"
     ]
    },
    {
     "name": "stdout",
     "output_type": "stream",
     "text": [
      "Graph with 500 nodes and 996 edges\n",
      "Graph with 500 nodes and 996 edges\n"
     ]
    },
    {
     "name": "stderr",
     "output_type": "stream",
     "text": [
      "2it [00:17,  8.76s/it]"
     ]
    },
    {
     "name": "stdout",
     "output_type": "stream",
     "text": [
      "Graph with 500 nodes and 996 edges\n",
      "Graph with 500 nodes and 996 edges\n"
     ]
    },
    {
     "name": "stderr",
     "output_type": "stream",
     "text": [
      "3it [00:28,  9.68s/it]"
     ]
    },
    {
     "name": "stdout",
     "output_type": "stream",
     "text": [
      "Graph with 500 nodes and 996 edges\n",
      "Graph with 500 nodes and 996 edges\n"
     ]
    },
    {
     "name": "stderr",
     "output_type": "stream",
     "text": [
      "4it [00:36,  8.84s/it]"
     ]
    },
    {
     "name": "stdout",
     "output_type": "stream",
     "text": [
      "Graph with 500 nodes and 996 edges\n",
      "Graph with 500 nodes and 996 edges\n"
     ]
    },
    {
     "name": "stderr",
     "output_type": "stream",
     "text": [
      "5it [00:42,  8.54s/it]\n"
     ]
    },
    {
     "name": "stdout",
     "output_type": "stream",
     "text": [
      "simulation run for graph degree 5\n"
     ]
    },
    {
     "name": "stderr",
     "output_type": "stream",
     "text": [
      "0it [00:00, ?it/s]"
     ]
    },
    {
     "name": "stdout",
     "output_type": "stream",
     "text": [
      "Graph with 500 nodes and 2475 edges\n",
      "Graph with 500 nodes and 2475 edges\n"
     ]
    },
    {
     "name": "stderr",
     "output_type": "stream",
     "text": [
      "1it [00:10, 10.45s/it]"
     ]
    },
    {
     "name": "stdout",
     "output_type": "stream",
     "text": [
      "Graph with 500 nodes and 2475 edges\n",
      "Graph with 500 nodes and 2475 edges\n"
     ]
    }
   ],
   "source": [
    "results_dict_list = []\n",
    "modality = \"reversable\"\n",
    "for node_degree in albert_graph_config['node_degree']:\n",
    "    results_dict = {\n",
    "        \"timesteps_saturation\" : [],\n",
    "        \"fraction_infected_list\" : [],\n",
    "        \"info_dict\" : []\n",
    "    }\n",
    "    print(f\"simulation run for graph degree {node_degree}\")\n",
    "    mean_degree_simulation_runs = []\n",
    "    for i, repeat in tqdm.tqdm(enumerate(range(conf['num_simulation_runs']))):\n",
    "        graphgen = GraphStructureGenerator(\n",
    "            structure_name=albert_graph_config['structure_name'], \n",
    "            num_nodes=int(albert_graph_config['nodes']), \n",
    "            node_degree = int(node_degree)\n",
    "        )\n",
    "        graph = graphgen.initial_adj_matrix\n",
    "        graph_rand = graphgen.get_graph_structure().initial_adj_matrix\n",
    "\n",
    "        x = ProceduralGraphGenerator(graph)\n",
    "        infection_matrix_list, timesteps_saturation, fraction_infected_list, info_dict = x.infect_till_saturation(\n",
    "            modality=modality, verbose= False\n",
    "        )\n",
    "\n",
    "        results_dict[\"timesteps_saturation\"].append(timesteps_saturation)\n",
    "        results_dict[\"fraction_infected_list\"].append(fraction_infected_list)\n",
    "        results_dict[\"info_dict\"].append(info_dict)\n",
    "    \n",
    "    results_dict_list.append(results_dict)"
   ]
  },
  {
   "cell_type": "code",
   "execution_count": null,
   "metadata": {},
   "outputs": [],
   "source": [
    "import itertools\n",
    "for result in tqdm.tqdm(results_dict_list): \n",
    "    for key in result.keys():\n",
    "        if key == \"fraction_infected_list\":\n",
    "            # Pad the list to ones to the longest saturation length, find the mean across all simulations and the std at each timestep\n",
    "            padded_list = np.array(\n",
    "                list(zip(*itertools.zip_longest(*result[key], fillvalue=1)))\n",
    "            )\n",
    "            result[key] = np.mean(padded_list, axis=0)\n",
    "        if key == \"info_dict\":\n",
    "            info_dict_temp = {k : None for k in result['info_dict'][0].keys()}\n",
    "            for key in info_dict_temp.keys():\n",
    "                if key == \"modality\":\n",
    "                    info_dict_temp[key] = result['info_dict'][0]['modality']\n",
    "                else:\n",
    "                    info_dict_temp[key] = np.average([x[key] for x in result['info_dict']])\n",
    "            result['info_dict'] = info_dict_temp\n",
    "        \n",
    "    result['average_timesteps'] = np.average(result['timesteps_saturation'])"
   ]
  },
  {
   "cell_type": "code",
   "execution_count": null,
   "metadata": {},
   "outputs": [],
   "source": [
    "for result in results_dict_list: \n",
    "    timesteps_list = [x for x in range(len(result['fraction_infected_list']))]\n",
    "\n",
    "    p, cov = curve_fit(logistic, timesteps_list, result['fraction_infected_list'])\n",
    "    logistic_curve_data = logistic(timesteps_list, *p)\n",
    "    print(\"run statistics\")\n",
    "    print(result['info_dict'])\n",
    "    plt.plot(timesteps_list, result['fraction_infected_list'], label = f\"average simulated saturation across {len(result['timesteps_saturation'])} runs\")\n",
    "    plt.plot(timesteps_list, logistic_curve_data, label = \"fitted logistic\")\n",
    "    plt.title(f\"saturation curve for modality {result['info_dict']['modality']} mean degree {round(result['info_dict']['average_degree'], 2)}\")\n",
    "    plt.legend()\n",
    "    plt.show()"
   ]
  },
  {
   "cell_type": "code",
   "execution_count": null,
   "metadata": {},
   "outputs": [],
   "source": [
    "results_dict_list = []\n",
    "modality = \"irreversable\"\n",
    "for node_degree in albert_graph_config['node_degree']:\n",
    "    results_dict = {\n",
    "        \"timesteps_saturation\" : [],\n",
    "        \"fraction_infected_list\" : [],\n",
    "        \"info_dict\" : []\n",
    "    }\n",
    "    print(f\"simulation run for graph degree {node_degree}\")\n",
    "    mean_degree_simulation_runs = []\n",
    "    for i, repeat in tqdm.tqdm(enumerate(range(conf['num_simulation_runs']))):\n",
    "        graphgen = GraphStructureGenerator(\n",
    "            structure_name=albert_graph_config['structure_name'], \n",
    "            num_nodes=int(albert_graph_config['nodes']), \n",
    "            node_degree = int(node_degree)\n",
    "        )\n",
    "        graph = graphgen.initial_adj_matrix\n",
    "        graph_rand = graphgen.get_graph_structure().initial_adj_matrix\n",
    "\n",
    "        x = ProceduralGraphGenerator(graph)\n",
    "        infection_matrix_list, timesteps_saturation, fraction_infected_list, info_dict = x.infect_till_saturation(\n",
    "            modality=modality, verbose= False\n",
    "        )\n",
    "\n",
    "        results_dict[\"timesteps_saturation\"].append(timesteps_saturation)\n",
    "        results_dict[\"fraction_infected_list\"].append(fraction_infected_list)\n",
    "        results_dict[\"info_dict\"].append(info_dict)\n",
    "    \n",
    "    results_dict_list.append(results_dict)"
   ]
  },
  {
   "cell_type": "code",
   "execution_count": null,
   "metadata": {},
   "outputs": [],
   "source": [
    "import itertools\n",
    "for result in tqdm.tqdm(results_dict_list): \n",
    "    for key in result.keys():\n",
    "        if key == \"fraction_infected_list\":\n",
    "            # Pad the list to ones to the longest saturation length, find the mean across all simulations and the std at each timestep\n",
    "            padded_list = np.array(\n",
    "                list(zip(*itertools.zip_longest(*result[key], fillvalue=1)))\n",
    "            )\n",
    "            result[key] = np.mean(padded_list, axis=0)\n",
    "        if key == \"info_dict\":\n",
    "            info_dict_temp = {k : None for k in result['info_dict'][0].keys()}\n",
    "            for key in info_dict_temp.keys():\n",
    "                if key == \"modality\":\n",
    "                    info_dict_temp[key] = result['info_dict'][0]['modality']\n",
    "                else:\n",
    "                    info_dict_temp[key] = np.average([x[key] for x in result['info_dict']])\n",
    "            result['info_dict'] = info_dict_temp\n",
    "        \n",
    "    result['average_timesteps'] = np.average(result['timesteps_saturation'])"
   ]
  },
  {
   "cell_type": "code",
   "execution_count": null,
   "metadata": {},
   "outputs": [],
   "source": [
    "for result in results_dict_list: \n",
    "    timesteps_list = [x for x in range(len(result['fraction_infected_list']))]\n",
    "\n",
    "    p, cov = curve_fit(logistic, timesteps_list, result['fraction_infected_list'])\n",
    "    logistic_curve_data = logistic(timesteps_list, *p)\n",
    "    print(\"run statistics\")\n",
    "    print(result['info_dict'])\n",
    "    plt.plot(timesteps_list, result['fraction_infected_list'], label = f\"average simulated saturation across {len(result['timesteps_saturation'])} runs\")\n",
    "    plt.plot(timesteps_list, logistic_curve_data, label = \"fitted logistic\")\n",
    "    plt.title(f\"saturation curve for modality {result['info_dict']['modality']} mean degree {round(result['info_dict']['average_degree'], 2)}\")\n",
    "    plt.legend()\n",
    "    plt.show()"
   ]
  },
  {
   "cell_type": "code",
   "execution_count": null,
   "metadata": {},
   "outputs": [],
   "source": [
    "try: \n",
    "            #Fit a logistic curve to the simulated infection data for one simulation run, generate data with this logistic, use to find residuals in fit\n",
    "            p, cov = curve_fit(logistic, timesteps, fraction_infected_list)\n",
    "            logistic_curve_data = logistic(timesteps, *p)\n",
    "            residuals_dict[graph_rad].extend(fraction_infected_list - logistic_curve_data)\n",
    "            mean_degree_simulation_runs.append(average_degree)\n",
    "        except RuntimeError as e:\n",
    "            print(e)\n",
    "            pass \n",
    "    average_degrees.append(np.mean(mean_degree_simulation_runs))\n",
    "\n",
    "#Update keys of dictionary so that keys are the (averaged) mean degree of the simulations networks\n",
    "residuals_dict = {k : v for k,v in list(zip(average_degrees, residuals_dict.values()))}\n",
    "least_noisy_data = residuals_dict\n",
    "for key in residuals_dict.keys(): \n",
    "    sns.kdeplot(residuals_dict[key], label=f\"mean degree : {round(key, 2)}\")\n",
    "plt.legend()\n",
    "plt.show()"
   ]
  }
 ],
 "metadata": {
  "kernelspec": {
   "display_name": "pytorch_test",
   "language": "python",
   "name": "python3"
  },
  "language_info": {
   "codemirror_mode": {
    "name": "ipython",
    "version": 3
   },
   "file_extension": ".py",
   "mimetype": "text/x-python",
   "name": "python",
   "nbconvert_exporter": "python",
   "pygments_lexer": "ipython3",
   "version": "3.9.16"
  },
  "orig_nbformat": 4,
  "vscode": {
   "interpreter": {
    "hash": "ed04fdaa396137057cecf5bfc0e55553b9f8f5f6f71bfee0f82ec33005d5b476"
   }
  }
 },
 "nbformat": 4,
 "nbformat_minor": 2
}

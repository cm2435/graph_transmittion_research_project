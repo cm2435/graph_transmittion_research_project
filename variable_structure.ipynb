{
 "cells": [
  {
   "cell_type": "code",
   "execution_count": 1,
   "metadata": {},
   "outputs": [],
   "source": [
    "import numpy as np\n",
    "import pandas as pd\n",
    "import random\n",
    "import tqdm\n",
    "from scipy.optimize import curve_fit\n",
    "import matplotlib.pyplot as plt\n",
    "import seaborn as sns \n",
    "import yaml\n",
    "from pathlib import Path\n",
    "\n",
    "from util.functions import logistic\n",
    "from structure_generation.path_connection_gen import ProceduralGraphGenerator, StatsUtils, GraphStructureGenerator\n",
    "\n",
    "\n"
   ]
  },
  {
   "cell_type": "code",
   "execution_count": 2,
   "metadata": {},
   "outputs": [],
   "source": [
    "conf = yaml.safe_load(Path('config.yml').read_text())['reachability']"
   ]
  },
  {
   "cell_type": "code",
   "execution_count": 3,
   "metadata": {},
   "outputs": [],
   "source": [
    "geometric_graph_conf = conf"
   ]
  },
  {
   "cell_type": "code",
   "execution_count": 4,
   "metadata": {},
   "outputs": [
    {
     "data": {
      "text/plain": [
       "{'num_simulation_runs': 30,\n",
       " 'mean_degrees': [5],\n",
       " 'nodes': 750,\n",
       " 'structure_names': ['random_geometric', 'barabasi_albert']}"
      ]
     },
     "execution_count": 4,
     "metadata": {},
     "output_type": "execute_result"
    }
   ],
   "source": [
    "geometric_graph_conf"
   ]
  },
  {
   "cell_type": "code",
   "execution_count": 5,
   "metadata": {},
   "outputs": [],
   "source": [
    "import multiprocessing, itertools\n",
    "from typing import Union, Optional, Tuple, List\n",
    "import networkx as nx "
   ]
  },
  {
   "cell_type": "code",
   "execution_count": 6,
   "metadata": {},
   "outputs": [],
   "source": [
    "def run_single_simulation(\n",
    "    passed_inputs, \n",
    "    verbose : bool =  False \n",
    "    ):\n",
    "    \"\"\"\n",
    "    Function to run one iteration of the simulation. Need to pass a list instead of arguments to function \n",
    "    is so that it can work with pmap.unordered\n",
    "    \"\"\"\n",
    "    mean_degree, structure_name, modality, number_nodes = passed_inputs\n",
    "    results_dict = {\n",
    "    }\n",
    "    if verbose: \n",
    "        print(f\"simulation run for degree {mean_degree}\")\n",
    "    graphgen = GraphStructureGenerator(\n",
    "        structure_name=structure_name, \n",
    "        num_nodes=number_nodes, \n",
    "        target_mean_degree = mean_degree\n",
    "    )\n",
    "    graph = graphgen.initial_graph\n",
    "\n",
    "    x = ProceduralGraphGenerator(graph)\n",
    "    infection_matrix_list, timesteps_saturation, fraction_infected_list, info_dict = x.infect_till_saturation(\n",
    "        structure_name = structure_name, modality=modality, verbose= False\n",
    "    )\n",
    "\n",
    "    results_dict[\"timesteps_saturation\"] = timesteps_saturation\n",
    "    results_dict[\"fraction_infected_list\"] = fraction_infected_list\n",
    "    results_dict[\"info_dict\"] = info_dict\n",
    "\n",
    "    return results_dict\n",
    "    \n",
    "def run_simulation(modality : str, mean_degree : int, structure_name : str) -> list: \n",
    "    simulation_run_list = []\n",
    "    with multiprocessing.Pool(processes=multiprocessing.cpu_count() * 2 - 1) as p:\n",
    "        iterThis = itertools.repeat(\n",
    "            [\n",
    "                mean_degree, \n",
    "                structure_name,\n",
    "                modality, \n",
    "                conf['nodes']\n",
    "            ],\n",
    "            conf['num_simulation_runs'],\n",
    "        )\n",
    "        with tqdm.tqdm(total=conf['num_simulation_runs']) as pbar:\n",
    "            for _ in p.imap_unordered(run_single_simulation, iterThis):\n",
    "                pbar.update()\n",
    "                simulation_run_list.append(_)\n",
    "    \n",
    "    #Simulation run lists is a list of dicts we need to merge into a dict of list of lists\n",
    "    final_dict = {k : [] for k in list(_.keys())}\n",
    "    for key in final_dict.keys():\n",
    "        for simulation_dict in simulation_run_list: \n",
    "            final_dict[key].append(simulation_dict[key])\n",
    "\n",
    "    #final_dict['fraction_infected_list'] = np.array(\n",
    "    #    list(zip(*itertools.zip_longest(*final_dict['fraction_infected_list'], fillvalue=final_dict['fraction_infected_list'][-1])))\n",
    "    #)\n",
    "\n",
    "    return final_dict\n",
    "\n",
    "\n",
    "def plot_results(results_dict : dict, structure_name : str ):\n",
    "    for iter in results_dict['fraction_infected_list']:\n",
    "        #print(iter['info_dict'])\n",
    "        timesteps_list = [x for x in range(len(iter))]\n",
    "        #try:\n",
    "        #    p, cov = curve_fit(logistic, timesteps_list, iter)\n",
    "        #    logistic_curve_data = logistic(timesteps_list, *p)\n",
    "        #except:\n",
    "        #    pass\n",
    "        plt.plot(timesteps_list, iter, )#label = f\"average simulated saturation across {len(result['timesteps_saturation'])} runs\")\n",
    "    #plt.plot(timesteps_list, logistic_curve_data, label = \"fitted logistic\")\n",
    "    plt.title(\n",
    "        f\"saturation curve for {structure_name}     modality: {results_dict['info_dict'][0]['modality']}    mean degree: {round(results_dict['info_dict'][0]['average_degree'], 2)}\")\n",
    "    \n",
    "    plt.xlabel(\"number simulation timesteps\")\n",
    "    plt.ylabel(\"fraction of giant graph infected\")\n",
    "    plt.legend()\n",
    "    plt.show()"
   ]
  },
  {
   "attachments": {},
   "cell_type": "markdown",
   "metadata": {},
   "source": [
    "REVERSABLE GEOMETRIC GRAPH SIMULATION"
   ]
  },
  {
   "cell_type": "code",
   "execution_count": 7,
   "metadata": {},
   "outputs": [
    {
     "name": "stdout",
     "output_type": "stream",
     "text": [
      "simulation run for mean degree 5\n"
     ]
    },
    {
     "name": "stderr",
     "output_type": "stream",
     "text": [
      "  0%|          | 0/30 [00:00<?, ?it/s]"
     ]
    }
   ],
   "source": [
    "graph_name = \"random_geometric\"\n",
    "for degree in conf['mean_degrees']: \n",
    "    print(f\"simulation run for mean degree {degree}\")\n",
    "    simulation_run = run_simulation(\"reversable\",degree, graph_name)\n",
    "    print(simulation_run['info_dict'][:5])\n",
    "    plot_results(simulation_run, graph_name)"
   ]
  },
  {
   "attachments": {},
   "cell_type": "markdown",
   "metadata": {},
   "source": [
    "IRREVERSABLE GEOMETRIC GRAPH SIMULATION"
   ]
  },
  {
   "cell_type": "code",
   "execution_count": null,
   "metadata": {},
   "outputs": [],
   "source": [
    "\"\"\"graph_name = \"random_geometric\"\n",
    "for degree in conf['mean_degrees']: \n",
    "    print(f\"simulation run for mean degree {degree}\")\n",
    "    simulation_run = run_simulation(\"irreversable\",degree, graph_name)\n",
    "    print(simulation_run['info_dict'][:5])\n",
    "    plot_results(simulation_run, graph_name)\"\"\""
   ]
  },
  {
   "attachments": {},
   "cell_type": "markdown",
   "metadata": {},
   "source": [
    "Results for reversable albert simulation "
   ]
  },
  {
   "cell_type": "code",
   "execution_count": null,
   "metadata": {},
   "outputs": [],
   "source": [
    "graph_name = \"barabasi_albert\"\n",
    "for degree in conf['mean_degrees']: \n",
    "    print(f\"simulation run for mean degree {degree}\")\n",
    "    simulation_run = run_simulation(\"reversable\",degree, graph_name)\n",
    "    print(simulation_run['info_dict'][:30])\n",
    "    plot_results(simulation_run, graph_name)"
   ]
  },
  {
   "attachments": {},
   "cell_type": "markdown",
   "metadata": {},
   "source": [
    "Results for irreversable albert simulation "
   ]
  },
  {
   "cell_type": "code",
   "execution_count": null,
   "metadata": {},
   "outputs": [],
   "source": [
    "\"\"\"graph_name = \"barabasi_albert\"\n",
    "for degree in conf['mean_degrees']: \n",
    "    print(f\"simulation run for mean degree {degree}\")\n",
    "    simulation_run = run_simulation(\"irreversable\",degree, graph_name)\n",
    "    print(simulation_run['info_dict'][:30])\n",
    "    plot_results(simulation_run, graph_name)\"\"\""
   ]
  }
 ],
 "metadata": {
  "kernelspec": {
   "display_name": "pytorch_test",
   "language": "python",
   "name": "python3"
  },
  "language_info": {
   "codemirror_mode": {
    "name": "ipython",
    "version": 3
   },
   "file_extension": ".py",
   "mimetype": "text/x-python",
   "name": "python",
   "nbconvert_exporter": "python",
   "pygments_lexer": "ipython3",
   "version": "3.9.16"
  },
  "orig_nbformat": 4,
  "vscode": {
   "interpreter": {
    "hash": "ed04fdaa396137057cecf5bfc0e55553b9f8f5f6f71bfee0f82ec33005d5b476"
   }
  }
 },
 "nbformat": 4,
 "nbformat_minor": 2
}

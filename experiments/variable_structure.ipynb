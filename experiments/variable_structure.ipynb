{
 "cells": [
  {
   "cell_type": "code",
   "execution_count": 1,
   "metadata": {},
   "outputs": [],
   "source": [
    "import numpy as np\n",
    "import pandas as pd\n",
    "import random\n",
    "import tqdm\n",
    "from scipy.optimize import curve_fit\n",
    "import matplotlib.pyplot as plt\n",
    "import seaborn as sns \n",
    "import yaml\n",
    "from pathlib import Path\n",
    "import sys \n",
    "import os \n",
    "sys.path.append(os.path.dirname(os.getcwd()))\n",
    "from util.functions import logistic\n",
    "from structure_generation.path_connection_gen import ProceduralGraphGenerator, StatsUtils, GraphStructureGenerator\n",
    "\n",
    "\n"
   ]
  },
  {
   "cell_type": "code",
   "execution_count": 2,
   "metadata": {},
   "outputs": [],
   "source": [
    "geometric_graph_conf = yaml.safe_load(Path('config.yml').read_text())['reachability']"
   ]
  },
  {
   "cell_type": "code",
   "execution_count": 3,
   "metadata": {},
   "outputs": [],
   "source": [
    "import multiprocessing, itertools\n",
    "from typing import Union, Optional, Tuple, List\n",
    "import networkx as nx \n",
    "\n",
    "from utils import run_single_simulation, run_simulation, plot_results"
   ]
  },
  {
   "attachments": {},
   "cell_type": "markdown",
   "metadata": {},
   "source": [
    "## REVERSABLE GEOMETRIC GRAPH SIMULATION"
   ]
  },
  {
   "cell_type": "code",
   "execution_count": 4,
   "metadata": {},
   "outputs": [
    {
     "name": "stdout",
     "output_type": "stream",
     "text": [
      "simulation run for mean degree 5\n"
     ]
    },
    {
     "name": "stderr",
     "output_type": "stream",
     "text": [
      "  0%|          | 0/30 [00:00<?, ?it/s]\n"
     ]
    },
    {
     "ename": "AttributeError",
     "evalue": "module 'numpy' has no attribute 'set_seed'",
     "output_type": "error",
     "traceback": [
      "\u001b[0;31m---------------------------------------------------------------------------\u001b[0m",
      "\u001b[0;31mRemoteTraceback\u001b[0m                           Traceback (most recent call last)",
      "\u001b[0;31mRemoteTraceback\u001b[0m: \n\"\"\"\nTraceback (most recent call last):\n  File \"/home/cm2435/anaconda3/envs/pytorch_test/lib/python3.9/multiprocessing/pool.py\", line 125, in worker\n    result = (True, func(*args, **kwds))\n  File \"/home/cm2435/Desktop/graphs/experiments/utils.py\", line 28, in run_single_simulation\n    np.set_seed(random.randint(0,10000))\n  File \"/home/cm2435/anaconda3/envs/pytorch_test/lib/python3.9/site-packages/numpy/__init__.py\", line 311, in __getattr__\n    raise AttributeError(\"module {!r} has no attribute \"\nAttributeError: module 'numpy' has no attribute 'set_seed'\n\"\"\"",
      "\nThe above exception was the direct cause of the following exception:\n",
      "\u001b[0;31mAttributeError\u001b[0m                            Traceback (most recent call last)",
      "Cell \u001b[0;32mIn[4], line 4\u001b[0m\n\u001b[1;32m      2\u001b[0m \u001b[39mfor\u001b[39;00m degree \u001b[39min\u001b[39;00m geometric_graph_conf[\u001b[39m'\u001b[39m\u001b[39mmean_degrees\u001b[39m\u001b[39m'\u001b[39m]: \n\u001b[1;32m      3\u001b[0m     \u001b[39mprint\u001b[39m(\u001b[39mf\u001b[39m\u001b[39m\"\u001b[39m\u001b[39msimulation run for mean degree \u001b[39m\u001b[39m{\u001b[39;00mdegree\u001b[39m}\u001b[39;00m\u001b[39m\"\u001b[39m)\n\u001b[0;32m----> 4\u001b[0m     foobar \u001b[39m=\u001b[39m run_simulation(degree, graph_name)\n",
      "File \u001b[0;32m~/Desktop/graphs/experiments/utils.py:89\u001b[0m, in \u001b[0;36mrun_simulation\u001b[0;34m(mean_degree, structure_name)\u001b[0m\n\u001b[1;32m     80\u001b[0m iterThis \u001b[39m=\u001b[39m itertools\u001b[39m.\u001b[39mrepeat(\n\u001b[1;32m     81\u001b[0m     [\n\u001b[1;32m     82\u001b[0m         mean_degree, \n\u001b[0;32m   (...)\u001b[0m\n\u001b[1;32m     86\u001b[0m     num_runs,\n\u001b[1;32m     87\u001b[0m )\n\u001b[1;32m     88\u001b[0m \u001b[39mwith\u001b[39;00m tqdm\u001b[39m.\u001b[39mtqdm(total\u001b[39m=\u001b[39mnum_runs) \u001b[39mas\u001b[39;00m pbar:\n\u001b[0;32m---> 89\u001b[0m     \u001b[39mfor\u001b[39;00m _ \u001b[39min\u001b[39;00m p\u001b[39m.\u001b[39mimap_unordered(run_single_simulation, iterThis):\n\u001b[1;32m     90\u001b[0m         pbar\u001b[39m.\u001b[39mupdate()\n\u001b[1;32m     91\u001b[0m         simulation_run_reversable\u001b[39m.\u001b[39mappend(_[\u001b[39m0\u001b[39m])\n",
      "File \u001b[0;32m~/anaconda3/envs/pytorch_test/lib/python3.9/multiprocessing/pool.py:870\u001b[0m, in \u001b[0;36mIMapIterator.next\u001b[0;34m(self, timeout)\u001b[0m\n\u001b[1;32m    868\u001b[0m \u001b[39mif\u001b[39;00m success:\n\u001b[1;32m    869\u001b[0m     \u001b[39mreturn\u001b[39;00m value\n\u001b[0;32m--> 870\u001b[0m \u001b[39mraise\u001b[39;00m value\n",
      "\u001b[0;31mAttributeError\u001b[0m: module 'numpy' has no attribute 'set_seed'"
     ]
    }
   ],
   "source": [
    "graph_name = \"random_geometric\"\n",
    "for degree in geometric_graph_conf['mean_degrees']: \n",
    "    print(f\"simulation run for mean degree {degree}\")\n",
    "    foobar = run_simulation(degree, graph_name)"
   ]
  },
  {
   "cell_type": "code",
   "execution_count": null,
   "metadata": {},
   "outputs": [],
   "source": [
    "graph_name = \"random_geometric\"\n",
    "for degree in geometric_graph_conf['mean_degrees']: \n",
    "    print(f\"simulation run for mean degree {degree}\")\n",
    "    simulation_run = run_simulation(degree, graph_name)"
   ]
  },
  {
   "cell_type": "code",
   "execution_count": null,
   "metadata": {},
   "outputs": [],
   "source": [
    "for mode in simulation_run: \n",
    "    plot_results(mode, graph_name)\n",
    "    #print(mode)"
   ]
  },
  {
   "cell_type": "code",
   "execution_count": null,
   "metadata": {},
   "outputs": [],
   "source": [
    "#Degree distribution for the random geometric\n",
    "\n",
    "degrees_list = []\n",
    "for run in simulation_run[0]['info_dict']:\n",
    "    degrees_list.extend(run['degree_list'])\n",
    "\n",
    "sns.displot(degrees_list)\n",
    "plt.title(\"degree distribution plot for random geometric graph\")\n",
    "plt.xlabel(\"degree\")\n",
    "plt.ylabel(\"count density\")"
   ]
  },
  {
   "attachments": {},
   "cell_type": "markdown",
   "metadata": {},
   "source": [
    "IRREVERSABLE GEOMETRIC GRAPH SIMULATION"
   ]
  },
  {
   "cell_type": "code",
   "execution_count": null,
   "metadata": {},
   "outputs": [],
   "source": [
    "graph_name = \"barabasi_albert\"\n",
    "for degree in geometric_graph_conf['mean_degrees']: \n",
    "    print(f\"simulation run for mean degree {degree}\")\n",
    "    simulation_run_barbassi = run_simulation(degree, graph_name)"
   ]
  },
  {
   "cell_type": "code",
   "execution_count": null,
   "metadata": {},
   "outputs": [],
   "source": [
    "for mode in simulation_run_barbassi: \n",
    "    plot_results(mode, graph_name)"
   ]
  },
  {
   "cell_type": "code",
   "execution_count": null,
   "metadata": {},
   "outputs": [],
   "source": [
    "#Degree distribution for the barabassi albert \n",
    "degrees_list = []\n",
    "for run in simulation_run_barbassi[0]['info_dict']:\n",
    "    degrees_list.extend(run['degree_list'])\n",
    "\n",
    "sns.displot(degrees_list)\n",
    "plt.title(\"degree distribution plot for barabassi albert graph\")\n",
    "plt.xlabel(\"degree\")\n",
    "plt.ylabel(\"count density\")"
   ]
  },
  {
   "cell_type": "code",
   "execution_count": null,
   "metadata": {},
   "outputs": [],
   "source": []
  },
  {
   "attachments": {},
   "cell_type": "markdown",
   "metadata": {},
   "source": [
    "Results for reversable albert simulation "
   ]
  }
 ],
 "metadata": {
  "kernelspec": {
   "display_name": "pytorch_test",
   "language": "python",
   "name": "python3"
  },
  "language_info": {
   "codemirror_mode": {
    "name": "ipython",
    "version": 3
   },
   "file_extension": ".py",
   "mimetype": "text/x-python",
   "name": "python",
   "nbconvert_exporter": "python",
   "pygments_lexer": "ipython3",
   "version": "3.9.16"
  },
  "orig_nbformat": 4,
  "vscode": {
   "interpreter": {
    "hash": "ed04fdaa396137057cecf5bfc0e55553b9f8f5f6f71bfee0f82ec33005d5b476"
   }
  }
 },
 "nbformat": 4,
 "nbformat_minor": 2
}

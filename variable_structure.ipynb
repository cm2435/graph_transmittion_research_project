{
 "cells": [
  {
   "cell_type": "code",
   "execution_count": 1,
   "metadata": {},
   "outputs": [],
   "source": [
    "import numpy as np\n",
    "import pandas as pd\n",
    "import random\n",
    "import tqdm\n",
    "from scipy.optimize import curve_fit\n",
    "import matplotlib.pyplot as plt\n",
    "import seaborn as sns \n",
    "import yaml\n",
    "from pathlib import Path\n",
    "\n",
    "from util.functions import logistic\n",
    "from structure_generation.path_connection_gen import ProceduralGraphGenerator, StatsUtils, GraphStructureGenerator\n",
    "\n",
    "\n"
   ]
  },
  {
   "cell_type": "code",
   "execution_count": 2,
   "metadata": {},
   "outputs": [],
   "source": [
    "\n",
    "conf = yaml.safe_load(Path('config.yml').read_text())['reachability']\n"
   ]
  },
  {
   "cell_type": "code",
   "execution_count": 3,
   "metadata": {},
   "outputs": [],
   "source": [
    "geometric_graph_conf = conf['random_geometric']\n"
   ]
  },
  {
   "cell_type": "code",
   "execution_count": 38,
   "metadata": {},
   "outputs": [
    {
     "name": "stdout",
     "output_type": "stream",
     "text": [
      "simulation run for graph radius 0.025\n"
     ]
    },
    {
     "name": "stderr",
     "output_type": "stream",
     "text": [
      "5it [00:00, 40.41it/s]\n"
     ]
    },
    {
     "name": "stdout",
     "output_type": "stream",
     "text": [
      "simulation run for graph radius 0.05\n"
     ]
    },
    {
     "name": "stderr",
     "output_type": "stream",
     "text": [
      "5it [00:20,  4.15s/it]\n"
     ]
    }
   ],
   "source": [
    "results_dict_list = []\n",
    "\n",
    "for graph_rad in geometric_graph_conf['graph_edge_radii']:\n",
    "    results_dict = {\n",
    "        \"timesteps_saturation\" : [],\n",
    "        \"fraction_infected_list\" : [],\n",
    "        \"info_dict\" : []\n",
    "    }\n",
    "    print(f\"simulation run for graph radius {graph_rad}\")\n",
    "    mean_degree_simulation_runs = []\n",
    "    for i, repeat in tqdm.tqdm(enumerate(range(conf['num_simulation_runs']))):\n",
    "        graphgen = GraphStructureGenerator(\n",
    "            structure_name=conf['structure_name'], \n",
    "            num_nodes=int(geometric_graph_conf['nodes']), \n",
    "            graph_edge_radius = float(graph_rad)\n",
    "        )\n",
    "        graph = graphgen.initial_adj_matrix\n",
    "        graph_rand = graphgen.get_graph_structure().initial_adj_matrix\n",
    "\n",
    "        x = ProceduralGraphGenerator(graph)\n",
    "        infection_matrix_list, timesteps_saturation, fraction_infected_list, info_dict = x.infect_till_saturation(\n",
    "            modality=\"causal\", verbose= False\n",
    "        )\n",
    "        results_dict[\"timesteps_saturation\"].append(timesteps_saturation)\n",
    "        results_dict[\"fraction_infected_list\"].append(fraction_infected_list)\n",
    "        if i == conf['num_simulation_runs'] - 1: \n",
    "            results_dict[\"info_dict\"].append(info_dict)\n",
    "    \n",
    "    results_dict_list.append(results_dict)"
   ]
  },
  {
   "cell_type": "code",
   "execution_count": 32,
   "metadata": {},
   "outputs": [
    {
     "data": {
      "text/plain": [
       "dict_keys(['timesteps_saturation', 'fraction_infected_list', 'info_dict'])"
      ]
     },
     "execution_count": 32,
     "metadata": {},
     "output_type": "execute_result"
    }
   ],
   "source": [
    "results_dict_list[0].keys()"
   ]
  },
  {
   "cell_type": "code",
   "execution_count": 33,
   "metadata": {},
   "outputs": [
    {
     "name": "stdout",
     "output_type": "stream",
     "text": [
      "[0.18365801 0.29556277 0.43192641 0.61883117 0.69383117 0.88409091\n",
      " 0.975      0.975      0.975      0.975      0.975      1.        ]\n",
      "[0.00593191 0.00593191 0.00593191 ... 0.90694365 0.90694365 0.90694365]\n"
     ]
    }
   ],
   "source": [
    "import itertools\n",
    "for result in results_dict_list: \n",
    "    for key in result.keys():\n",
    "        if isinstance(result[key], list): \n",
    "            if key == \"fraction_infected_list\":\n",
    "                # Pad the list to ones to the longest saturation length, find the mean across all simulations and the std at each timestep\n",
    "                padded_list = np.array(\n",
    "                    list(zip(*itertools.zip_longest(*result[key], fillvalue=1)))\n",
    "                )\n",
    "                result[key] = np.mean(padded_list, axis=0)\n",
    "                print(result[key])\n",
    "            else: \n",
    "                pass"
   ]
  },
  {
   "cell_type": "code",
   "execution_count": 37,
   "metadata": {},
   "outputs": [
    {
     "data": {
      "text/plain": [
       "{'timesteps_saturation': [1839, 1086, 2000, 2000, 2000],\n",
       " 'fraction_infected_list': array([0.00593191, 0.00593191, 0.00593191, ..., 0.90694365, 0.90694365,\n",
       "        0.90694365]),\n",
       " 'info_dict': [{'average_degree': 4.574626865671642,\n",
       "   'num_nodes': 268,\n",
       "   'clustering_coefficient': 0.5450808726928131,\n",
       "   'degree_assortivity': 0.6987979959753656,\n",
       "   'mean_shortest_pathlength': 18.567834982391414}]}"
      ]
     },
     "execution_count": 37,
     "metadata": {},
     "output_type": "execute_result"
    }
   ],
   "source": [
    "result"
   ]
  },
  {
   "cell_type": "code",
   "execution_count": null,
   "metadata": {},
   "outputs": [
    {
     "data": {
      "text/plain": [
       "{'timesteps_saturation': [10, 11, 4, 14, 6],\n",
       " 'fraction_infected_list': [[0.25,\n",
       "   0.25,\n",
       "   0.25,\n",
       "   0.25,\n",
       "   0.25,\n",
       "   0.25,\n",
       "   0.25,\n",
       "   0.25,\n",
       "   0.375,\n",
       "   1.0],\n",
       "  [0.2222222222222222,\n",
       "   0.2222222222222222,\n",
       "   0.3333333333333333,\n",
       "   0.5555555555555556,\n",
       "   0.5555555555555556,\n",
       "   0.5555555555555556,\n",
       "   0.5555555555555556,\n",
       "   0.8888888888888888,\n",
       "   0.8888888888888888,\n",
       "   0.8888888888888888,\n",
       "   1.0],\n",
       "  [0.5714285714285714, 0.7142857142857143, 0.7142857142857143, 1.0],\n",
       "  [0.1111111111111111,\n",
       "   0.1111111111111111,\n",
       "   0.1111111111111111,\n",
       "   0.1111111111111111,\n",
       "   0.1111111111111111,\n",
       "   0.1111111111111111,\n",
       "   0.1111111111111111,\n",
       "   0.1111111111111111,\n",
       "   0.1111111111111111,\n",
       "   0.3333333333333333,\n",
       "   0.8888888888888888,\n",
       "   0.8888888888888888,\n",
       "   0.8888888888888888,\n",
       "   1.0],\n",
       "  [0.4, 0.4, 0.4, 0.4, 0.6, 1.0]],\n",
       " 'info_dict': [2.5, 2.2222222222222223, 2.0, 2.888888888888889, 3.4]}"
      ]
     },
     "execution_count": 24,
     "metadata": {},
     "output_type": "execute_result"
    }
   ],
   "source": [
    "results_dict_list[0]"
   ]
  },
  {
   "cell_type": "code",
   "execution_count": null,
   "metadata": {},
   "outputs": [
    {
     "ename": "IndentationError",
     "evalue": "unindent does not match any outer indentation level (<tokenize>, line 7)",
     "output_type": "error",
     "traceback": [
      "\u001b[0;36m  File \u001b[0;32m<tokenize>:7\u001b[0;36m\u001b[0m\n\u001b[0;31m    except RuntimeError as e:\u001b[0m\n\u001b[0m    ^\u001b[0m\n\u001b[0;31mIndentationError\u001b[0m\u001b[0;31m:\u001b[0m unindent does not match any outer indentation level\n"
     ]
    }
   ],
   "source": [
    "try: \n",
    "            #Fit a logistic curve to the simulated infection data for one simulation run, generate data with this logistic, use to find residuals in fit\n",
    "            p, cov = curve_fit(logistic, timesteps, fraction_infected_list)\n",
    "            logistic_curve_data = logistic(timesteps, *p)\n",
    "            residuals_dict[graph_rad].extend(fraction_infected_list - logistic_curve_data)\n",
    "            mean_degree_simulation_runs.append(average_degree)\n",
    "        except RuntimeError as e:\n",
    "            print(e)\n",
    "            pass \n",
    "    average_degrees.append(np.mean(mean_degree_simulation_runs))\n",
    "\n",
    "#Update keys of dictionary so that keys are the (averaged) mean degree of the simulations networks\n",
    "residuals_dict = {k : v for k,v in list(zip(average_degrees, residuals_dict.values()))}\n",
    "least_noisy_data = residuals_dict\n",
    "for key in residuals_dict.keys(): \n",
    "    sns.kdeplot(residuals_dict[key], label=f\"mean degree : {round(key, 2)}\")\n",
    "plt.legend()\n",
    "plt.show()"
   ]
  }
 ],
 "metadata": {
  "kernelspec": {
   "display_name": "pytorch_test",
   "language": "python",
   "name": "python3"
  },
  "language_info": {
   "codemirror_mode": {
    "name": "ipython",
    "version": 3
   },
   "file_extension": ".py",
   "mimetype": "text/x-python",
   "name": "python",
   "nbconvert_exporter": "python",
   "pygments_lexer": "ipython3",
   "version": "3.9.16"
  },
  "orig_nbformat": 4,
  "vscode": {
   "interpreter": {
    "hash": "ed04fdaa396137057cecf5bfc0e55553b9f8f5f6f71bfee0f82ec33005d5b476"
   }
  }
 },
 "nbformat": 4,
 "nbformat_minor": 2
}

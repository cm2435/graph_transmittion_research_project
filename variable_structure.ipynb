{
 "cells": [
  {
   "cell_type": "code",
   "execution_count": 1,
   "metadata": {},
   "outputs": [],
   "source": [
    "import numpy as np\n",
    "import pandas as pd\n",
    "import random\n",
    "import tqdm\n",
    "from scipy.optimize import curve_fit\n",
    "import matplotlib.pyplot as plt\n",
    "import seaborn as sns \n",
    "import yaml\n",
    "from pathlib import Path\n",
    "\n",
    "from util.functions import logistic\n",
    "from structure_generation.path_connection_gen import ProceduralGraphGenerator, StatsUtils, GraphStructureGenerator\n",
    "\n",
    "\n"
   ]
  },
  {
   "cell_type": "code",
   "execution_count": 9,
   "metadata": {},
   "outputs": [],
   "source": [
    "\n",
    "conf = yaml.safe_load(Path('config.yml').read_text())['reachability']\n"
   ]
  },
  {
   "cell_type": "code",
   "execution_count": 10,
   "metadata": {},
   "outputs": [],
   "source": [
    "geometric_graph_conf = conf['random_geometric']"
   ]
  },
  {
   "cell_type": "code",
   "execution_count": 11,
   "metadata": {},
   "outputs": [
    {
     "name": "stderr",
     "output_type": "stream",
     "text": [
      "0it [00:00, ?it/s]/6 [00:00<?, ?it/s]\n",
      "  0%|          | 0/6 [00:00<?, ?it/s]\n"
     ]
    },
    {
     "ename": "TypeError",
     "evalue": "'int' object is not iterable",
     "output_type": "error",
     "traceback": [
      "\u001b[0;31m---------------------------------------------------------------------------\u001b[0m",
      "\u001b[0;31mTypeError\u001b[0m                                 Traceback (most recent call last)",
      "Cell \u001b[0;32mIn[11], line 3\u001b[0m\n\u001b[1;32m      1\u001b[0m \u001b[39mfor\u001b[39;00m graph_rad \u001b[39min\u001b[39;00m tqdm\u001b[39m.\u001b[39mtqdm(geometric_graph_conf[\u001b[39m'\u001b[39m\u001b[39mgraph_edge_radii\u001b[39m\u001b[39m'\u001b[39m]):\n\u001b[1;32m      2\u001b[0m     mean_degree_simulation_runs \u001b[39m=\u001b[39m []\n\u001b[0;32m----> 3\u001b[0m     \u001b[39mfor\u001b[39;00m repeat \u001b[39min\u001b[39;00m tqdm\u001b[39m.\u001b[39mtqdm(conf[\u001b[39m'\u001b[39m\u001b[39mnum_simulation_runs\u001b[39m\u001b[39m'\u001b[39m]):\n\u001b[1;32m      4\u001b[0m         graphgen \u001b[39m=\u001b[39m GraphStructureGenerator(\n\u001b[1;32m      5\u001b[0m             structure_name\u001b[39m=\u001b[39mconf[\u001b[39m'\u001b[39m\u001b[39mstructure_name\u001b[39m\u001b[39m'\u001b[39m], \n\u001b[1;32m      6\u001b[0m             num_nodes\u001b[39m=\u001b[39m\u001b[39mint\u001b[39m(geometric_graph_conf[\u001b[39m'\u001b[39m\u001b[39mnodes\u001b[39m\u001b[39m'\u001b[39m]), \n\u001b[1;32m      7\u001b[0m             graph_edge_radius \u001b[39m=\u001b[39m \u001b[39mfloat\u001b[39m(graph_rad)\n\u001b[1;32m      8\u001b[0m         )\n\u001b[1;32m      9\u001b[0m         graph \u001b[39m=\u001b[39m graphgen\u001b[39m.\u001b[39minitial_adj_matrix\n",
      "File \u001b[0;32m~/anaconda3/envs/thesis/lib/python3.9/site-packages/tqdm/std.py:1195\u001b[0m, in \u001b[0;36mtqdm.__iter__\u001b[0;34m(self)\u001b[0m\n\u001b[1;32m   1192\u001b[0m time \u001b[39m=\u001b[39m \u001b[39mself\u001b[39m\u001b[39m.\u001b[39m_time\n\u001b[1;32m   1194\u001b[0m \u001b[39mtry\u001b[39;00m:\n\u001b[0;32m-> 1195\u001b[0m     \u001b[39mfor\u001b[39;00m obj \u001b[39min\u001b[39;00m iterable:\n\u001b[1;32m   1196\u001b[0m         \u001b[39myield\u001b[39;00m obj\n\u001b[1;32m   1197\u001b[0m         \u001b[39m# Update and possibly print the progressbar.\u001b[39;00m\n\u001b[1;32m   1198\u001b[0m         \u001b[39m# Note: does not call self.update(1) for speed optimisation.\u001b[39;00m\n",
      "\u001b[0;31mTypeError\u001b[0m: 'int' object is not iterable"
     ]
    }
   ],
   "source": [
    "for graph_rad in tqdm.tqdm(geometric_graph_conf['graph_edge_radii']):\n",
    "    mean_degree_simulation_runs = []\n",
    "    for repeat in tqdm.tqdm(range(conf['num_simulation_runs'])):\n",
    "        graphgen = GraphStructureGenerator(\n",
    "            structure_name=conf['structure_name'], \n",
    "            num_nodes=int(geometric_graph_conf['nodes']), \n",
    "            graph_edge_radius = float(graph_rad)\n",
    "        )\n",
    "        graph = graphgen.initial_adj_matrix\n",
    "        graph_rand = graphgen.get_graph_structure().initial_adj_matrix\n",
    "\n",
    "        x = ProceduralGraphGenerator(graph)\n",
    "        infection_matrix_list, timesteps_saturation, fraction_infected_list, average_degree = x.infect_till_saturation(\n",
    "            modality=\"saturation\", verbose= False\n",
    "        )\n",
    "        timesteps = [x for x in range(timesteps_saturation)]"
   ]
  },
  {
   "cell_type": "code",
   "execution_count": null,
   "metadata": {},
   "outputs": [],
   "source": [
    "try: \n",
    "            #Fit a logistic curve to the simulated infection data for one simulation run, generate data with this logistic, use to find residuals in fit\n",
    "            p, cov = curve_fit(logistic, timesteps, fraction_infected_list)\n",
    "            logistic_curve_data = logistic(timesteps, *p)\n",
    "            residuals_dict[graph_rad].extend(fraction_infected_list - logistic_curve_data)\n",
    "            mean_degree_simulation_runs.append(average_degree)\n",
    "        except RuntimeError as e:\n",
    "            print(e)\n",
    "            pass \n",
    "    average_degrees.append(np.mean(mean_degree_simulation_runs))\n",
    "\n",
    "#Update keys of dictionary so that keys are the (averaged) mean degree of the simulations networks\n",
    "residuals_dict = {k : v for k,v in list(zip(average_degrees, residuals_dict.values()))}\n",
    "least_noisy_data = residuals_dict\n",
    "for key in residuals_dict.keys(): \n",
    "    sns.kdeplot(residuals_dict[key], label=f\"mean degree : {round(key, 2)}\")\n",
    "plt.legend()\n",
    "plt.show()"
   ]
  }
 ],
 "metadata": {
  "kernelspec": {
   "display_name": "thesis",
   "language": "python",
   "name": "python3"
  },
  "language_info": {
   "codemirror_mode": {
    "name": "ipython",
    "version": 3
   },
   "file_extension": ".py",
   "mimetype": "text/x-python",
   "name": "python",
   "nbconvert_exporter": "python",
   "pygments_lexer": "ipython3",
   "version": "3.9.16"
  },
  "orig_nbformat": 4,
  "vscode": {
   "interpreter": {
    "hash": "7f4ac81b54cc070fb6ec86bfcdf564e6ec7d00cea191a8fa9c365c929f541660"
   }
  }
 },
 "nbformat": 4,
 "nbformat_minor": 2
}

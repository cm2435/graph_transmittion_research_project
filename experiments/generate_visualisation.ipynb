{
 "cells": [
  {
   "cell_type": "code",
   "execution_count": 4,
   "metadata": {},
   "outputs": [],
   "source": [
    "import numpy as np\n",
    "import pandas as pd\n",
    "import random\n",
    "import tqdm\n",
    "from scipy.optimize import curve_fit\n",
    "import matplotlib.pyplot as plt\n",
    "import seaborn as sns \n",
    "import yaml\n",
    "from pathlib import Path\n",
    "import sys \n",
    "import os \n",
    "import networkx as nx \n",
    "\n",
    "sys.path.append(os.path.dirname(os.getcwd()))\n",
    "from util.functions import logistic\n",
    "from structure_generation.path_connection_gen import ProceduralGraphGenerator, StatsUtils, GraphStructureGenerator"
   ]
  },
  {
   "cell_type": "code",
   "execution_count": 73,
   "metadata": {},
   "outputs": [
    {
     "name": "stderr",
     "output_type": "stream",
     "text": [
      " 80%|████████  | 8/10 [00:14<00:03,  1.77s/it]"
     ]
    }
   ],
   "source": [
    "for i in tqdm.tqdm(range(10)):\n",
    "    graphgen = GraphStructureGenerator(\n",
    "    structure_name=\"random_geometric\", \n",
    "    num_nodes=500, \n",
    "    target_mean_degree = 5\n",
    "    )\n",
    "    graph = graphgen.initial_graph  \n",
    "\n",
    "    giant_graph = graph.subgraph(max(nx.connected_components(graph), key=len))\n",
    "    graph.remove_nodes_from(list(giant_graph.nodes()))\n",
    "    nx.draw(graph, alpha=0.5)"
   ]
  }
 ],
 "metadata": {
  "kernelspec": {
   "display_name": "pytorch_test",
   "language": "python",
   "name": "python3"
  },
  "language_info": {
   "codemirror_mode": {
    "name": "ipython",
    "version": 3
   },
   "file_extension": ".py",
   "mimetype": "text/x-python",
   "name": "python",
   "nbconvert_exporter": "python",
   "pygments_lexer": "ipython3",
   "version": "3.9.16"
  },
  "orig_nbformat": 4,
  "vscode": {
   "interpreter": {
    "hash": "ed04fdaa396137057cecf5bfc0e55553b9f8f5f6f71bfee0f82ec33005d5b476"
   }
  }
 },
 "nbformat": 4,
 "nbformat_minor": 2
}

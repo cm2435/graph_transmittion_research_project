{
 "cells": [
  {
   "cell_type": "code",
   "execution_count": 2,
   "metadata": {},
   "outputs": [
    {
     "ename": "ModuleNotFoundError",
     "evalue": "No module named 'util'",
     "output_type": "error",
     "traceback": [
      "\u001b[0;31m---------------------------------------------------------------------------\u001b[0m",
      "\u001b[0;31mModuleNotFoundError\u001b[0m                       Traceback (most recent call last)",
      "Cell \u001b[0;32mIn[2], line 11\u001b[0m\n\u001b[1;32m      8\u001b[0m \u001b[39mimport\u001b[39;00m \u001b[39myaml\u001b[39;00m\n\u001b[1;32m      9\u001b[0m \u001b[39mfrom\u001b[39;00m \u001b[39mpathlib\u001b[39;00m \u001b[39mimport\u001b[39;00m Path\n\u001b[0;32m---> 11\u001b[0m \u001b[39mfrom\u001b[39;00m \u001b[39mutil\u001b[39;00m\u001b[39m.\u001b[39;00m\u001b[39mfunctions\u001b[39;00m \u001b[39mimport\u001b[39;00m logistic\n\u001b[1;32m     12\u001b[0m \u001b[39mfrom\u001b[39;00m \u001b[39mstructure_generation\u001b[39;00m\u001b[39m.\u001b[39;00m\u001b[39mpath_connection_gen\u001b[39;00m \u001b[39mimport\u001b[39;00m ProceduralGraphGenerator, StatsUtils, GraphStructureGenerator\n",
      "\u001b[0;31mModuleNotFoundError\u001b[0m: No module named 'util'"
     ]
    }
   ],
   "source": [
    "import numpy as np\n",
    "import pandas as pd\n",
    "import random\n",
    "import tqdm\n",
    "from scipy.optimize import curve_fit\n",
    "import matplotlib.pyplot as plt\n",
    "import seaborn as sns \n",
    "import yaml\n",
    "from pathlib import Path\n",
    "import sys \n",
    "\n",
    "sys.path.append(Path.parent)\n",
    "from util.functions import logistic\n",
    "from structure_generation.path_connection_gen import ProceduralGraphGenerator, StatsUtils, GraphStructureGenerator\n",
    "\n",
    "\n"
   ]
  },
  {
   "cell_type": "code",
   "execution_count": null,
   "metadata": {},
   "outputs": [],
   "source": [
    "conf = yaml.safe_load(Path('config.yml').read_text())['reachability']"
   ]
  },
  {
   "cell_type": "code",
   "execution_count": null,
   "metadata": {},
   "outputs": [],
   "source": [
    "geometric_graph_conf = conf"
   ]
  },
  {
   "cell_type": "code",
   "execution_count": null,
   "metadata": {},
   "outputs": [],
   "source": [
    "geometric_graph_conf"
   ]
  },
  {
   "cell_type": "code",
   "execution_count": null,
   "metadata": {},
   "outputs": [],
   "source": [
    "import multiprocessing, itertools\n",
    "from typing import Union, Optional, Tuple, List\n",
    "import networkx as nx "
   ]
  },
  {
   "cell_type": "code",
   "execution_count": null,
   "metadata": {},
   "outputs": [],
   "source": [
    "def run_single_simulation(\n",
    "    passed_inputs, \n",
    "    verbose : bool =  False \n",
    "    ):\n",
    "    \"\"\"\n",
    "    Function to run one iteration of the simulation. Need to pass a list instead of arguments to function \n",
    "    is so that it can work with pmap.unordered\n",
    "    \"\"\"\n",
    "    mean_degree, structure_name, modality, number_nodes = passed_inputs\n",
    "    results_dict = {\n",
    "    }\n",
    "    if verbose: \n",
    "        print(f\"simulation run for degree {mean_degree}\")\n",
    "    graphgen = GraphStructureGenerator(\n",
    "        structure_name=structure_name, \n",
    "        num_nodes=number_nodes, \n",
    "        target_mean_degree = mean_degree\n",
    "    )\n",
    "    graph = graphgen.initial_graph\n",
    "\n",
    "    x = ProceduralGraphGenerator(graph)\n",
    "    infection_matrix_list, timesteps_saturation, fraction_infected_list, info_dict = x.infect_till_saturation(\n",
    "        structure_name = structure_name, modality=modality, verbose= False\n",
    "    )\n",
    "\n",
    "    results_dict[\"timesteps_saturation\"] = timesteps_saturation\n",
    "    results_dict[\"fraction_infected_list\"] = fraction_infected_list\n",
    "    results_dict[\"info_dict\"] = info_dict\n",
    "\n",
    "    return results_dict\n",
    "    \n",
    "def run_simulation(modality : str, mean_degree : int, structure_name : str) -> list: \n",
    "    simulation_run_list = []\n",
    "    with multiprocessing.Pool(processes=multiprocessing.cpu_count() * 2 - 1) as p:\n",
    "        iterThis = itertools.repeat(\n",
    "            [\n",
    "                mean_degree, \n",
    "                structure_name,\n",
    "                modality, \n",
    "                conf['nodes']\n",
    "            ],\n",
    "            conf['num_simulation_runs'],\n",
    "        )\n",
    "        with tqdm.tqdm(total=conf['num_simulation_runs']) as pbar:\n",
    "            for _ in p.imap_unordered(run_single_simulation, iterThis):\n",
    "                pbar.update()\n",
    "                simulation_run_list.append(_)\n",
    "    \n",
    "    #Simulation run lists is a list of dicts we need to merge into a dict of list of lists\n",
    "    final_dict = {k : [] for k in list(_.keys())}\n",
    "    for key in final_dict.keys():\n",
    "        for simulation_dict in simulation_run_list: \n",
    "            final_dict[key].append(simulation_dict[key])\n",
    "\n",
    "    #final_dict['fraction_infected_list'] = np.array(\n",
    "    #    list(zip(*itertools.zip_longest(*final_dict['fraction_infected_list'], fillvalue=final_dict['fraction_infected_list'][-1])))\n",
    "    #)\n",
    "\n",
    "    return final_dict\n",
    "\n",
    "\n",
    "def plot_results(results_dict : dict, structure_name : str ):\n",
    "    for iter in results_dict['fraction_infected_list']:\n",
    "        #print(iter['info_dict'])\n",
    "        timesteps_list = [x for x in range(len(iter))]\n",
    "        #try:\n",
    "        #    p, cov = curve_fit(logistic, timesteps_list, iter)\n",
    "        #    logistic_curve_data = logistic(timesteps_list, *p)\n",
    "        #except:\n",
    "        #    pass\n",
    "        plt.plot(timesteps_list, iter, )#label = f\"average simulated saturation across {len(result['timesteps_saturation'])} runs\")\n",
    "    #plt.plot(timesteps_list, logistic_curve_data, label = \"fitted logistic\")\n",
    "    plt.title(\n",
    "        f\"saturation curve for {structure_name}     modality: {results_dict['info_dict'][0]['modality']}    mean degree: {round(results_dict['info_dict'][0]['average_degree'], 2)}\")\n",
    "    \n",
    "    plt.xlabel(\"number simulation timesteps\")\n",
    "    plt.ylabel(\"fraction of giant graph infected\")\n",
    "    plt.legend()\n",
    "    plt.show()"
   ]
  },
  {
   "attachments": {},
   "cell_type": "markdown",
   "metadata": {},
   "source": [
    "REVERSABLE GEOMETRIC GRAPH SIMULATION"
   ]
  },
  {
   "cell_type": "code",
   "execution_count": null,
   "metadata": {},
   "outputs": [],
   "source": [
    "graph_name = \"random_geometric\"\n",
    "for degree in conf['mean_degrees']: \n",
    "    print(f\"simulation run for mean degree {degree}\")\n",
    "    simulation_run = run_simulation(\"reversable\",degree, graph_name)\n",
    "    print(simulation_run['info_dict'][:5])\n",
    "    plot_results(simulation_run, graph_name)"
   ]
  },
  {
   "cell_type": "code",
   "execution_count": null,
   "metadata": {},
   "outputs": [],
   "source": [
    "degrees_list = []\n",
    "for run in simulation_run['info_dict']:\n",
    "    degrees_list.extend(run['degree_list'])\n",
    "\n",
    "sns.displot(degrees_list)\n",
    "plt.title(\"degree distribution plot for random geometric graph\")\n",
    "plt.xlabel(\"degree\")\n",
    "plt.ylabel(\"count density\")"
   ]
  },
  {
   "attachments": {},
   "cell_type": "markdown",
   "metadata": {},
   "source": [
    "IRREVERSABLE GEOMETRIC GRAPH SIMULATION"
   ]
  },
  {
   "cell_type": "code",
   "execution_count": null,
   "metadata": {},
   "outputs": [],
   "source": [
    "\"\"\"graph_name = \"random_geometric\"\n",
    "for degree in conf['mean_degrees']: \n",
    "    print(f\"simulation run for mean degree {degree}\")\n",
    "    simulation_run = run_simulation(\"irreversable\",degree, graph_name)\n",
    "    print(simulation_run['info_dict'][:5])\n",
    "    plot_results(simulation_run, graph_name)\"\"\""
   ]
  },
  {
   "attachments": {},
   "cell_type": "markdown",
   "metadata": {},
   "source": [
    "Results for reversable albert simulation "
   ]
  },
  {
   "cell_type": "code",
   "execution_count": null,
   "metadata": {},
   "outputs": [],
   "source": [
    "graph_name = \"barabasi_albert\"\n",
    "for degree in conf['mean_degrees']: \n",
    "    print(f\"simulation run for mean degree {degree}\")\n",
    "    simulation_run = run_simulation(\"reversable\",degree, graph_name)\n",
    "    print(simulation_run['info_dict'][:30])\n",
    "    plot_results(simulation_run, graph_name)"
   ]
  },
  {
   "cell_type": "code",
   "execution_count": null,
   "metadata": {},
   "outputs": [],
   "source": [
    "simulation_put = []\n",
    "removed_len = []\n",
    "for run in simulation_run['fraction_infected_list']:\n",
    "    first_val = run[0]\n",
    "    runer = [x for x in run if x > 0.03]\n",
    "    removed_len = len(run) - len(runer)\n",
    "    #simulation_put.append(runer)\n",
    "    print(removed_len)\n",
    "    removed_len.append(removed_len)"
   ]
  },
  {
   "cell_type": "code",
   "execution_count": null,
   "metadata": {},
   "outputs": [],
   "source": [
    "\n",
    "\n",
    "def plot_results(lister, structure_name : str ):\n",
    "    for iter in lister:\n",
    "        #print(iter['info_dict'])\n",
    "        timesteps_list = [x for x in range(len(iter))]\n",
    "        #try:\n",
    "        #    p, cov = curve_fit(logistic, timesteps_list, iter)\n",
    "        #    logistic_curve_data = logistic(timesteps_list, *p)\n",
    "        #except:\n",
    "        #    pass\n",
    "        plt.plot(timesteps_list, iter, )#label = f\"average simulated saturation across {len(result['timesteps_saturation'])} runs\")\n",
    "    #plt.plot(timesteps_list, logistic_curve_data, label = \"fitted logistic\")\n",
    "    #plt.title(\n",
    "    #    f\"saturation curve for {structure_name}     modality: {results_dict['info_dict'][0]['modality']}    mean degree: {round(results_dict['info_dict'][0]['average_degree'], 2)}\")\n",
    "    \n",
    "    plt.xlabel(\"number simulation timesteps\")\n",
    "    plt.ylabel(\"fraction of giant graph infected\")\n",
    "    plt.legend()\n",
    "    plt.show()"
   ]
  },
  {
   "cell_type": "code",
   "execution_count": null,
   "metadata": {},
   "outputs": [],
   "source": []
  },
  {
   "cell_type": "code",
   "execution_count": null,
   "metadata": {},
   "outputs": [],
   "source": [
    "plot_results(simulation_put, \"foo\")"
   ]
  },
  {
   "cell_type": "code",
   "execution_count": null,
   "metadata": {},
   "outputs": [],
   "source": [
    "degrees_list = []\n",
    "for run in simulation_run['info_dict']:\n",
    "    degrees_list.extend(run['degree_list'])\n",
    "\n",
    "sns.displot(degrees_list)\n",
    "plt.title(\"degree distribution plot for barabassi albert graph\")\n",
    "plt.xlabel(\"degree\")\n",
    "plt.ylabel(\"count density\")"
   ]
  },
  {
   "attachments": {},
   "cell_type": "markdown",
   "metadata": {},
   "source": [
    "Results for irreversable albert simulation "
   ]
  },
  {
   "cell_type": "code",
   "execution_count": null,
   "metadata": {},
   "outputs": [],
   "source": [
    "graph_name = \"barabasi_albert\"\n",
    "for degree in conf['mean_degrees']: \n",
    "    print(f\"simulation run for mean degree {degree}\")\n",
    "    simulation_run = run_simulation(\"irreversable\",degree, graph_name)\n",
    "    print(simulation_run['info_dict'][:30])\n",
    "    plot_results(simulation_run, graph_name)"
   ]
  }
 ],
 "metadata": {
  "kernelspec": {
   "display_name": "thesis",
   "language": "python",
   "name": "python3"
  },
  "language_info": {
   "codemirror_mode": {
    "name": "ipython",
    "version": 3
   },
   "file_extension": ".py",
   "mimetype": "text/x-python",
   "name": "python",
   "nbconvert_exporter": "python",
   "pygments_lexer": "ipython3",
   "version": "3.9.16"
  },
  "orig_nbformat": 4,
  "vscode": {
   "interpreter": {
    "hash": "7f4ac81b54cc070fb6ec86bfcdf564e6ec7d00cea191a8fa9c365c929f541660"
   }
  }
 },
 "nbformat": 4,
 "nbformat_minor": 2
}

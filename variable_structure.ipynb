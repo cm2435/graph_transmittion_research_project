{
 "cells": [
  {
   "cell_type": "code",
   "execution_count": 1,
   "metadata": {},
   "outputs": [],
   "source": [
    "import numpy as np\n",
    "import pandas as pd\n",
    "import random\n",
    "import tqdm\n",
    "from scipy.optimize import curve_fit\n",
    "import matplotlib.pyplot as plt\n",
    "import seaborn as sns \n",
    "import yaml\n",
    "from pathlib import Path\n",
    "\n",
    "from util.functions import logistic\n",
    "from structure_generation.path_connection_gen import ProceduralGraphGenerator, StatsUtils, GraphStructureGenerator\n",
    "\n",
    "\n"
   ]
  },
  {
   "cell_type": "code",
   "execution_count": 3,
   "metadata": {},
   "outputs": [],
   "source": [
    "conf = yaml.safe_load(Path('config.yml').read_text())['reachability']\n"
   ]
  },
  {
   "cell_type": "code",
   "execution_count": null,
   "metadata": {},
   "outputs": [],
   "source": [
    "    conf = yaml.safe_load(Path('config.yml').read_text())['reachability']\n",
    "\n",
    "    average_degrees = []\n",
    "    residuals_dict = {k : [] for k in conf['graph_edge_radii']}\n",
    "    raw_vals_dict = {}\n",
    "    for graph_rad in tqdm.tqdm(conf['graph_edge_radii']):\n",
    "        mean_degree_simulation_runs = []\n",
    "        for repeat in range(int(conf['num_simulation_repeats'])): \n",
    "            graphgen = GraphStructureGenerator(structure_name=conf['structure_name'], num_nodes=int(conf['nodes']), graph_edge_radius = float(graph_rad))\n",
    "            graph = graphgen.initial_adj_matrix\n",
    "            graph_rand = graphgen.get_graph_structure().initial_adj_matrix\n",
    "\n",
    "            x = ProceduralGraphGenerator(graph)\n",
    "            infection_matrix_list, timesteps_saturation, fraction_infected_list, average_degree = x.infect_till_saturation(\n",
    "                modality=\"saturation\", verbose= False\n",
    "            )\n",
    "            timesteps = [x for x in range(timesteps_saturation)]\n",
    "            try: \n",
    "                #Fit a logistic curve to the simulated infection data for one simulation run, generate data with this logistic, use to find residuals in fit\n",
    "                p, cov = curve_fit(logistic, timesteps, fraction_infected_list)\n",
    "                logistic_curve_data = logistic(timesteps, *p)\n",
    "                residuals_dict[graph_rad].extend(fraction_infected_list - logistic_curve_data)\n",
    "                mean_degree_simulation_runs.append(average_degree)\n",
    "            except RuntimeError as e:\n",
    "                print(e)\n",
    "                pass \n",
    "        average_degrees.append(np.mean(mean_degree_simulation_runs))\n",
    "    \n",
    "    #Update keys of dictionary so that keys are the (averaged) mean degree of the simulations networks\n",
    "    residuals_dict = {k : v for k,v in list(zip(average_degrees, residuals_dict.values()))}\n",
    "    least_noisy_data = residuals_dict\n",
    "    for key in residuals_dict.keys(): \n",
    "        sns.kdeplot(residuals_dict[key], label=f\"mean degree : {round(key, 2)}\")\n",
    "    plt.legend()\n",
    "    plt.show()"
   ]
  }
 ],
 "metadata": {
  "kernelspec": {
   "display_name": "thesis",
   "language": "python",
   "name": "python3"
  },
  "language_info": {
   "codemirror_mode": {
    "name": "ipython",
    "version": 3
   },
   "file_extension": ".py",
   "mimetype": "text/x-python",
   "name": "python",
   "nbconvert_exporter": "python",
   "pygments_lexer": "ipython3",
   "version": "3.9.16"
  },
  "orig_nbformat": 4,
  "vscode": {
   "interpreter": {
    "hash": "7f4ac81b54cc070fb6ec86bfcdf564e6ec7d00cea191a8fa9c365c929f541660"
   }
  }
 },
 "nbformat": 4,
 "nbformat_minor": 2
}

{
 "cells": [
  {
   "cell_type": "code",
   "execution_count": 136,
   "metadata": {},
   "outputs": [],
   "source": [
    "import numpy as np\n",
    "import pandas as pd\n",
    "import random\n",
    "import tqdm\n",
    "from scipy.optimize import curve_fit\n",
    "import matplotlib.pyplot as plt\n",
    "import seaborn as sns \n",
    "import yaml\n",
    "from pathlib import Path\n",
    "\n",
    "from util.functions import logistic\n",
    "from structure_generation.path_connection_gen import ProceduralGraphGenerator, StatsUtils, GraphStructureGenerator\n",
    "\n",
    "\n"
   ]
  },
  {
   "cell_type": "code",
   "execution_count": 137,
   "metadata": {},
   "outputs": [],
   "source": [
    "\n",
    "conf = yaml.safe_load(Path('config.yml').read_text())['reachability']\n"
   ]
  },
  {
   "cell_type": "code",
   "execution_count": 138,
   "metadata": {},
   "outputs": [],
   "source": [
    "geometric_graph_conf = conf['random_geometric']\n"
   ]
  },
  {
   "cell_type": "code",
   "execution_count": 139,
   "metadata": {},
   "outputs": [
    {
     "name": "stdout",
     "output_type": "stream",
     "text": [
      "simulation run for graph radius 0.025\n"
     ]
    },
    {
     "name": "stderr",
     "output_type": "stream",
     "text": [
      "5it [00:00, 42.31it/s]\n"
     ]
    },
    {
     "name": "stdout",
     "output_type": "stream",
     "text": [
      "simulation run for graph radius 0.05\n"
     ]
    },
    {
     "name": "stderr",
     "output_type": "stream",
     "text": [
      "5it [00:19,  3.88s/it]\n"
     ]
    }
   ],
   "source": [
    "results_dict_list = []\n",
    "modality = \"causal\"\n",
    "for graph_rad in geometric_graph_conf['graph_edge_radii']:\n",
    "    results_dict = {\n",
    "        \"timesteps_saturation\" : [],\n",
    "        \"fraction_infected_list\" : [],\n",
    "        \"info_dict\" : []\n",
    "    }\n",
    "    print(f\"simulation run for graph radius {graph_rad}\")\n",
    "    mean_degree_simulation_runs = []\n",
    "    for i, repeat in tqdm.tqdm(enumerate(range(conf['num_simulation_runs']))):\n",
    "        graphgen = GraphStructureGenerator(\n",
    "            structure_name=conf['structure_name'], \n",
    "            num_nodes=int(geometric_graph_conf['nodes']), \n",
    "            graph_edge_radius = float(graph_rad)\n",
    "        )\n",
    "        graph = graphgen.initial_adj_matrix\n",
    "        graph_rand = graphgen.get_graph_structure().initial_adj_matrix\n",
    "\n",
    "        x = ProceduralGraphGenerator(graph)\n",
    "        infection_matrix_list, timesteps_saturation, fraction_infected_list, info_dict = x.infect_till_saturation(\n",
    "            modality=modality, verbose= False\n",
    "        )\n",
    "\n",
    "        results_dict[\"timesteps_saturation\"].append(timesteps_saturation)\n",
    "        results_dict[\"fraction_infected_list\"].append(fraction_infected_list)\n",
    "        results_dict[\"info_dict\"].append(info_dict)\n",
    "    \n",
    "    results_dict_list.append(results_dict)"
   ]
  },
  {
   "cell_type": "code",
   "execution_count": 140,
   "metadata": {},
   "outputs": [
    {
     "data": {
      "text/plain": [
       "2"
      ]
     },
     "execution_count": 140,
     "metadata": {},
     "output_type": "execute_result"
    }
   ],
   "source": [
    "len(results_dict_list)"
   ]
  },
  {
   "cell_type": "code",
   "execution_count": 141,
   "metadata": {},
   "outputs": [
    {
     "name": "stderr",
     "output_type": "stream",
     "text": [
      "100%|██████████| 2/2 [00:00<00:00, 529.78it/s]\n"
     ]
    }
   ],
   "source": [
    "import itertools\n",
    "for result in tqdm.tqdm(results_dict_list): \n",
    "    for key in result.keys():\n",
    "        if key == \"fraction_infected_list\":\n",
    "            # Pad the list to ones to the longest saturation length, find the mean across all simulations and the std at each timestep\n",
    "            padded_list = np.array(\n",
    "                list(zip(*itertools.zip_longest(*result[key], fillvalue=1)))\n",
    "            )\n",
    "            result[key] = np.mean(padded_list, axis=0)\n",
    "        if key == \"info_dict\":\n",
    "            info_dict_temp = {k : None for k in result['info_dict'][0].keys()}\n",
    "            for key in info_dict_temp.keys():\n",
    "                info_dict_temp[key] = np.average([x[key] for x in result['info_dict']])\n",
    "            result['info_dict'] = info_dict_temp\n",
    "        \n",
    "    result['average_timesteps'] = np.average(result['timesteps_saturation'])"
   ]
  },
  {
   "cell_type": "code",
   "execution_count": 142,
   "metadata": {},
   "outputs": [
    {
     "data": {
      "text/plain": [
       "{'timesteps_saturation': [15, 3, 15, 5, 14],\n",
       " 'fraction_infected_list': array([0.30782051, 0.46320513, 0.68397436, 0.73397436, 0.76730769,\n",
       "        0.76730769, 0.76730769, 0.76730769, 0.76730769, 0.76730769,\n",
       "        0.76730769, 0.81346154, 0.82884615, 0.875     , 1.        ]),\n",
       " 'info_dict': {'average_degree': 2.538974358974359,\n",
       "  'num_nodes': 8.0,\n",
       "  'clustering_coefficient': 0.4994017094017093,\n",
       "  'degree_assortivity': -0.03600606639686376,\n",
       "  'mean_shortest_pathlength': 2.2418315018315016},\n",
       " 'average_timesteps': 10.4}"
      ]
     },
     "execution_count": 142,
     "metadata": {},
     "output_type": "execute_result"
    }
   ],
   "source": [
    "import matplotlib\n",
    "test = results_dict_list[0]\n",
    "test"
   ]
  },
  {
   "cell_type": "code",
   "execution_count": 143,
   "metadata": {},
   "outputs": [
    {
     "ename": "KeyError",
     "evalue": "'modality'",
     "output_type": "error",
     "traceback": [
      "\u001b[0;31m---------------------------------------------------------------------------\u001b[0m",
      "\u001b[0;31mKeyError\u001b[0m                                  Traceback (most recent call last)",
      "Cell \u001b[0;32mIn[143], line 8\u001b[0m\n\u001b[1;32m      6\u001b[0m plt\u001b[39m.\u001b[39mplot(timesteps_list, test[\u001b[39m'\u001b[39m\u001b[39mfraction_infected_list\u001b[39m\u001b[39m'\u001b[39m], label \u001b[39m=\u001b[39m \u001b[39mf\u001b[39m\u001b[39m\"\u001b[39m\u001b[39maverage simulated saturation across \u001b[39m\u001b[39m{\u001b[39;00m\u001b[39mlen\u001b[39m(test[\u001b[39m'\u001b[39m\u001b[39mtimesteps_saturation\u001b[39m\u001b[39m'\u001b[39m])\u001b[39m}\u001b[39;00m\u001b[39m runs\u001b[39m\u001b[39m\"\u001b[39m)\n\u001b[1;32m      7\u001b[0m plt\u001b[39m.\u001b[39mplot(timesteps_list, logistic_curve_data, label \u001b[39m=\u001b[39m \u001b[39m\"\u001b[39m\u001b[39mfitted logistic\u001b[39m\u001b[39m\"\u001b[39m)\n\u001b[0;32m----> 8\u001b[0m plt\u001b[39m.\u001b[39mtitle(\u001b[39mf\u001b[39m\u001b[39m\"\u001b[39m\u001b[39msaturation curve for modality \u001b[39m\u001b[39m{\u001b[39;00mtest[\u001b[39m'\u001b[39m\u001b[39mmodality\u001b[39m\u001b[39m'\u001b[39m]\u001b[39m}\u001b[39;00m\u001b[39m\"\u001b[39m)\n\u001b[1;32m      9\u001b[0m plt\u001b[39m.\u001b[39mlegend()\n",
      "\u001b[0;31mKeyError\u001b[0m: 'modality'"
     ]
    },
    {
     "data": {
      "image/png": "[encoded data removed]",
      "text/plain": [
       "<Figure size 640x480 with 1 Axes>"
      ]
     },
     "metadata": {},
     "output_type": "display_data"
    }
   ],
   "source": [
    "timesteps_list = [x for x in range(len(test['fraction_infected_list']))]\n",
    "\n",
    "p, cov = curve_fit(logistic, timesteps_list, test['fraction_infected_list'])\n",
    "logistic_curve_data = logistic(timesteps_list, *p)\n",
    "\n",
    "plt.plot(timesteps_list, test['fraction_infected_list'], label = f\"average simulated saturation across {len(test['timesteps_saturation'])} runs\")\n",
    "plt.plot(timesteps_list, logistic_curve_data, label = \"fitted logistic\")\n",
    "plt.title(f\"saturation curve for modality {test['modality']}\")\n",
    "plt.legend()"
   ]
  },
  {
   "cell_type": "code",
   "execution_count": null,
   "metadata": {},
   "outputs": [],
   "source": [
    "            p, cov = curve_fit(logistic, timesteps, fraction_infected_list)\n"
   ]
  },
  {
   "cell_type": "code",
   "execution_count": null,
   "metadata": {},
   "outputs": [
    {
     "ename": "IndentationError",
     "evalue": "unindent does not match any outer indentation level (<tokenize>, line 7)",
     "output_type": "error",
     "traceback": [
      "\u001b[0;36m  File \u001b[0;32m<tokenize>:7\u001b[0;36m\u001b[0m\n\u001b[0;31m    except RuntimeError as e:\u001b[0m\n\u001b[0m    ^\u001b[0m\n\u001b[0;31mIndentationError\u001b[0m\u001b[0;31m:\u001b[0m unindent does not match any outer indentation level\n"
     ]
    }
   ],
   "source": [
    "try: \n",
    "            #Fit a logistic curve to the simulated infection data for one simulation run, generate data with this logistic, use to find residuals in fit\n",
    "            p, cov = curve_fit(logistic, timesteps, fraction_infected_list)\n",
    "            logistic_curve_data = logistic(timesteps, *p)\n",
    "            residuals_dict[graph_rad].extend(fraction_infected_list - logistic_curve_data)\n",
    "            mean_degree_simulation_runs.append(average_degree)\n",
    "        except RuntimeError as e:\n",
    "            print(e)\n",
    "            pass \n",
    "    average_degrees.append(np.mean(mean_degree_simulation_runs))\n",
    "\n",
    "#Update keys of dictionary so that keys are the (averaged) mean degree of the simulations networks\n",
    "residuals_dict = {k : v for k,v in list(zip(average_degrees, residuals_dict.values()))}\n",
    "least_noisy_data = residuals_dict\n",
    "for key in residuals_dict.keys(): \n",
    "    sns.kdeplot(residuals_dict[key], label=f\"mean degree : {round(key, 2)}\")\n",
    "plt.legend()\n",
    "plt.show()"
   ]
  }
 ],
 "metadata": {
  "kernelspec": {
   "display_name": "pytorch_test",
   "language": "python",
   "name": "python3"
  },
  "language_info": {
   "codemirror_mode": {
    "name": "ipython",
    "version": 3
   },
   "file_extension": ".py",
   "mimetype": "text/x-python",
   "name": "python",
   "nbconvert_exporter": "python",
   "pygments_lexer": "ipython3",
   "version": "3.9.16"
  },
  "orig_nbformat": 4,
  "vscode": {
   "interpreter": {
    "hash": "ed04fdaa396137057cecf5bfc0e55553b9f8f5f6f71bfee0f82ec33005d5b476"
   }
  }
 },
 "nbformat": 4,
 "nbformat_minor": 2
}

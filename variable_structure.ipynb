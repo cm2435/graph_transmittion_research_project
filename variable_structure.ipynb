{
 "cells": [
  {
   "cell_type": "code",
   "execution_count": 1,
   "metadata": {},
   "outputs": [],
   "source": [
    "import numpy as np\n",
    "import pandas as pd\n",
    "import random\n",
    "import tqdm\n",
    "from scipy.optimize import curve_fit\n",
    "import matplotlib.pyplot as plt\n",
    "import seaborn as sns \n",
    "import yaml\n",
    "from pathlib import Path\n",
    "\n",
    "from util.functions import logistic\n",
    "from structure_generation.path_connection_gen import ProceduralGraphGenerator, StatsUtils, GraphStructureGenerator\n",
    "\n",
    "\n"
   ]
  },
  {
   "cell_type": "code",
   "execution_count": 2,
   "metadata": {},
   "outputs": [],
   "source": [
    "\n",
    "conf = yaml.safe_load(Path('config.yml').read_text())['reachability']\n"
   ]
  },
  {
   "cell_type": "code",
   "execution_count": 3,
   "metadata": {},
   "outputs": [],
   "source": [
    "geometric_graph_conf = conf['random_geometric']\n"
   ]
  },
  {
   "cell_type": "code",
   "execution_count": 7,
   "metadata": {},
   "outputs": [
    {
     "name": "stdout",
     "output_type": "stream",
     "text": [
      "simulation run for graph radius 0.025\n"
     ]
    },
    {
     "name": "stderr",
     "output_type": "stream",
     "text": [
      "100%|██████████| 1/1 [00:00<00:00, 36.26it/s]\n"
     ]
    },
    {
     "name": "stdout",
     "output_type": "stream",
     "text": [
      "simulation run for graph radius 0.05\n"
     ]
    },
    {
     "name": "stderr",
     "output_type": "stream",
     "text": [
      "100%|██████████| 1/1 [00:00<00:00,  2.13it/s]\n"
     ]
    },
    {
     "name": "stdout",
     "output_type": "stream",
     "text": [
      "simulation run for graph radius 0.1\n"
     ]
    },
    {
     "name": "stderr",
     "output_type": "stream",
     "text": [
      "100%|██████████| 1/1 [00:07<00:00,  7.80s/it]\n"
     ]
    },
    {
     "name": "stdout",
     "output_type": "stream",
     "text": [
      "simulation run for graph radius 0.2\n"
     ]
    },
    {
     "name": "stderr",
     "output_type": "stream",
     "text": [
      "100%|██████████| 1/1 [00:09<00:00,  9.46s/it]\n"
     ]
    },
    {
     "name": "stdout",
     "output_type": "stream",
     "text": [
      "simulation run for graph radius 0.5\n"
     ]
    },
    {
     "name": "stderr",
     "output_type": "stream",
     "text": [
      "100%|██████████| 1/1 [00:09<00:00,  9.30s/it]\n"
     ]
    },
    {
     "name": "stdout",
     "output_type": "stream",
     "text": [
      "simulation run for graph radius 1\n"
     ]
    },
    {
     "name": "stderr",
     "output_type": "stream",
     "text": [
      "100%|██████████| 1/1 [00:08<00:00,  8.56s/it]\n"
     ]
    }
   ],
   "source": [
    "results_dict_list = []\n",
    "\n",
    "for graph_rad in geometric_graph_conf['graph_edge_radii']:\n",
    "    results_dict = {\n",
    "        \"timesteps_saturation\" : [],\n",
    "        \"fraction_infected_list\" : [],\n",
    "        \"average_degree\" : []\n",
    "    }\n",
    "    print(f\"simulation run for graph radius {graph_rad}\")\n",
    "    mean_degree_simulation_runs = []\n",
    "    for repeat in tqdm.tqdm(range(conf['num_simulation_runs'])):\n",
    "        graphgen = GraphStructureGenerator(\n",
    "            structure_name=conf['structure_name'], \n",
    "            num_nodes=int(geometric_graph_conf['nodes']), \n",
    "            graph_edge_radius = float(graph_rad)\n",
    "        )\n",
    "        graph = graphgen.initial_adj_matrix\n",
    "        graph_rand = graphgen.get_graph_structure().initial_adj_matrix\n",
    "\n",
    "        x = ProceduralGraphGenerator(graph)\n",
    "        infection_matrix_list, timesteps_saturation, fraction_infected_list, average_degree = x.infect_till_saturation(\n",
    "            modality=\"causal\", verbose= False\n",
    "        )\n",
    "        results_dict[\"average_degree\"].append(average_degree)\n",
    "        results_dict[\"timesteps_saturation\"].append(timesteps_saturation)\n",
    "        results_dict[\"fraction_infected_list\"].append(fraction_infected_list)\n",
    "    \n",
    "    results_dict_list.append(results_dict)"
   ]
  },
  {
   "cell_type": "code",
   "execution_count": 8,
   "metadata": {},
   "outputs": [
    {
     "data": {
      "text/plain": [
       "{'timesteps_saturation': [10],\n",
       " 'fraction_infected_list': [[0.2,\n",
       "   0.3,\n",
       "   0.4,\n",
       "   0.5,\n",
       "   0.5,\n",
       "   0.5,\n",
       "   0.5,\n",
       "   0.5,\n",
       "   0.9,\n",
       "   1.0]],\n",
       " 'average_degree': [2.6]}"
      ]
     },
     "execution_count": 8,
     "metadata": {},
     "output_type": "execute_result"
    }
   ],
   "source": [
    "results_dict_list[0]"
   ]
  },
  {
   "cell_type": "code",
   "execution_count": null,
   "metadata": {},
   "outputs": [],
   "source": [
    "try: \n",
    "            #Fit a logistic curve to the simulated infection data for one simulation run, generate data with this logistic, use to find residuals in fit\n",
    "            p, cov = curve_fit(logistic, timesteps, fraction_infected_list)\n",
    "            logistic_curve_data = logistic(timesteps, *p)\n",
    "            residuals_dict[graph_rad].extend(fraction_infected_list - logistic_curve_data)\n",
    "            mean_degree_simulation_runs.append(average_degree)\n",
    "        except RuntimeError as e:\n",
    "            print(e)\n",
    "            pass \n",
    "    average_degrees.append(np.mean(mean_degree_simulation_runs))\n",
    "\n",
    "#Update keys of dictionary so that keys are the (averaged) mean degree of the simulations networks\n",
    "residuals_dict = {k : v for k,v in list(zip(average_degrees, residuals_dict.values()))}\n",
    "least_noisy_data = residuals_dict\n",
    "for key in residuals_dict.keys(): \n",
    "    sns.kdeplot(residuals_dict[key], label=f\"mean degree : {round(key, 2)}\")\n",
    "plt.legend()\n",
    "plt.show()"
   ]
  }
 ],
 "metadata": {
  "kernelspec": {
   "display_name": "pytorch_test",
   "language": "python",
   "name": "python3"
  },
  "language_info": {
   "codemirror_mode": {
    "name": "ipython",
    "version": 3
   },
   "file_extension": ".py",
   "mimetype": "text/x-python",
   "name": "python",
   "nbconvert_exporter": "python",
   "pygments_lexer": "ipython3",
   "version": "3.9.16"
  },
  "orig_nbformat": 4,
  "vscode": {
   "interpreter": {
    "hash": "ed04fdaa396137057cecf5bfc0e55553b9f8f5f6f71bfee0f82ec33005d5b476"
   }
  }
 },
 "nbformat": 4,
 "nbformat_minor": 2
}

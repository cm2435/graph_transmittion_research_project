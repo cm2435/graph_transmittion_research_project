{
 "cells": [
  {
   "cell_type": "code",
   "execution_count": 1,
   "metadata": {},
   "outputs": [],
   "source": [
    "import numpy as np\n",
    "import pandas as pd\n",
    "import random\n",
    "import tqdm\n",
    "from scipy.optimize import curve_fit\n",
    "import matplotlib.pyplot as plt\n",
    "import seaborn as sns \n",
    "import yaml\n",
    "from pathlib import Path\n",
    "import sys \n",
    "import os \n",
    "sys.path.append(os.path.dirname(os.getcwd()))\n",
    "from util.functions import logistic\n",
    "from structure_generation.path_connection_gen import ProceduralGraphGenerator, StatsUtils, GraphStructureGenerator\n",
    "\n",
    "\n"
   ]
  },
  {
   "cell_type": "code",
   "execution_count": 2,
   "metadata": {},
   "outputs": [],
   "source": [
    "geometric_graph_conf = yaml.safe_load(Path('config.yml').read_text())['reachability']"
   ]
  },
  {
   "cell_type": "code",
   "execution_count": 3,
   "metadata": {},
   "outputs": [],
   "source": [
    "import multiprocessing, itertools\n",
    "from typing import Union, Optional, Tuple, List\n",
    "import networkx as nx "
   ]
  },
  {
   "cell_type": "code",
   "execution_count": 4,
   "metadata": {},
   "outputs": [],
   "source": [
    "def run_single_simulation(\n",
    "    passed_inputs, \n",
    "    verbose : bool =  False \n",
    "    ):\n",
    "    \"\"\"\n",
    "    Function to run one iteration of the simulation. Need to pass a list instead of arguments to function \n",
    "    is so that it can work with pmap.unordered\n",
    "    \"\"\"\n",
    "    mean_degree, structure_name, number_nodes = passed_inputs\n",
    "    results_dict_irreversable, results_dict_reversable = {}, {}\n",
    "    if verbose: \n",
    "        print(f\"simulation run for degree {mean_degree}\")\n",
    "    graphgen = GraphStructureGenerator(\n",
    "        structure_name=structure_name, \n",
    "        num_nodes=number_nodes, \n",
    "        target_mean_degree = mean_degree\n",
    "    )\n",
    "    graph = graphgen.initial_graph  \n",
    "\n",
    "    x = ProceduralGraphGenerator(graph)\n",
    "    infection_matrix_list_irreversable, timesteps_saturation_irreversable, fraction_infected_list_irreversable, info_dict_irreversable = x.infect_till_saturation(\n",
    "        structure_name = structure_name, modality=\"irreversable\", verbose= False\n",
    "    )\n",
    "    infection_matrix_list_reversable, timesteps_saturation_reversable, fraction_infected_list_reversable, info_dict_reversable = x.infect_till_saturation(\n",
    "        structure_name = structure_name, modality=\"reversable\", verbose= False\n",
    "    )\n",
    "\n",
    "    results_dict_irreversable[\"timesteps_saturation\"] = timesteps_saturation_irreversable\n",
    "    results_dict_irreversable[\"fraction_infected_list\"] = fraction_infected_list_irreversable\n",
    "    results_dict_irreversable[\"info_dict\"] = info_dict_irreversable\n",
    "\n",
    "    results_dict_reversable[\"timesteps_saturation\"] = timesteps_saturation_reversable\n",
    "    results_dict_reversable[\"fraction_infected_list\"] = fraction_infected_list_reversable\n",
    "    results_dict_reversable[\"info_dict\"] = info_dict_reversable\n",
    "\n",
    "    return info_dict_reversable, info_dict_irreversable\n",
    "    \n",
    "def run_simulation(mean_degree : int, structure_name : str) -> list: \n",
    "    simulation_run_reversable, simulation_run_irreversable = [], []\n",
    "    with multiprocessing.Pool(processes=multiprocessing.cpu_count() * 2 - 1) as p:\n",
    "        iterThis = itertools.repeat(\n",
    "            [\n",
    "                mean_degree, \n",
    "                structure_name,\n",
    "                geometric_graph_conf['nodes']\n",
    "            ],\n",
    "            geometric_graph_conf['num_simulation_runs'],\n",
    "        )\n",
    "        with tqdm.tqdm(total=geometric_graph_conf['num_simulation_runs']) as pbar:\n",
    "            for _ in p.imap_unordered(run_single_simulation, iterThis):\n",
    "                pbar.update()\n",
    "                simulation_run_reversable.append(_[0])\n",
    "                simulation_run_irreversable.append(_[1])\n",
    "\n",
    "    final_dict_reversable = {k : [] for k in list(_[0].keys())}\n",
    "    for key in final_dict_reversable.keys():\n",
    "        for simulation_dict in simulation_run_reversable: \n",
    "            final_dict_reversable[key].append(simulation_dict[key])\n",
    "\n",
    "    final_dict_irreversable = {k : [] for k in list(_[0].keys())}\n",
    "    for key in final_dict_irreversable.keys():\n",
    "        for simulation_dict in simulation_run_irreversable: \n",
    "            final_dict_irreversable[key].append(simulation_dict[key])\n",
    "\n",
    "    return final_dict_reversable, final_dict_irreversable\n",
    "\n",
    "\n",
    "def plot_results(results_dict : dict, structure_name : str ):\n",
    "    for iter in results_dict['fraction_infected_list']:\n",
    "        #print(iter['info_dict'])\n",
    "        timesteps_list = [x for x in range(len(iter))]\n",
    "        #try:\n",
    "        #    p, cov = curve_fit(logistic, timesteps_list, iter)\n",
    "        #    logistic_curve_data = logistic(timesteps_list, *p)\n",
    "        #except:\n",
    "        #    pass\n",
    "        plt.plot(timesteps_list, iter, )#label = f\"average simulated saturation across {len(result['timesteps_saturation'])} runs\")\n",
    "    #plt.plot(timesteps_list, logistic_curve_data, label = \"fitted logistic\")\n",
    "    plt.title(\n",
    "        f\"saturation curve for {structure_name}     modality: {results_dict['info_dict'][0]['modality']}    mean degree: {round(results_dict['info_dict'][0]['average_degree'], 2)}\")\n",
    "    \n",
    "    plt.xlabel(\"number simulation timesteps\")\n",
    "    plt.ylabel(\"fraction of giant graph infected\")\n",
    "    plt.legend()\n",
    "    plt.show()"
   ]
  },
  {
   "attachments": {},
   "cell_type": "markdown",
   "metadata": {},
   "source": [
    "REVERSABLE GEOMETRIC GRAPH SIMULATION"
   ]
  },
  {
   "cell_type": "code",
   "execution_count": 5,
   "metadata": {},
   "outputs": [
    {
     "name": "stdout",
     "output_type": "stream",
     "text": [
      "simulation run for mean degree 5\n"
     ]
    },
    {
     "name": "stderr",
     "output_type": "stream",
     "text": [
      "100%|██████████| 30/30 [00:31<00:00,  1.05s/it]\n"
     ]
    },
    {
     "ename": "AttributeError",
     "evalue": "'tuple' object has no attribute 'keys'",
     "output_type": "error",
     "traceback": [
      "\u001b[0;31m---------------------------------------------------------------------------\u001b[0m",
      "\u001b[0;31mAttributeError\u001b[0m                            Traceback (most recent call last)",
      "Cell \u001b[0;32mIn[5], line 4\u001b[0m\n\u001b[1;32m      2\u001b[0m \u001b[39mfor\u001b[39;00m degree \u001b[39min\u001b[39;00m geometric_graph_conf[\u001b[39m'\u001b[39m\u001b[39mmean_degrees\u001b[39m\u001b[39m'\u001b[39m]: \n\u001b[1;32m      3\u001b[0m     \u001b[39mprint\u001b[39m(\u001b[39mf\u001b[39m\u001b[39m\"\u001b[39m\u001b[39msimulation run for mean degree \u001b[39m\u001b[39m{\u001b[39;00mdegree\u001b[39m}\u001b[39;00m\u001b[39m\"\u001b[39m)\n\u001b[0;32m----> 4\u001b[0m     simulation_run \u001b[39m=\u001b[39m run_simulation(degree, graph_name)\n\u001b[1;32m      6\u001b[0m     \u001b[39mfor\u001b[39;00m mode \u001b[39min\u001b[39;00m simulation_run: \n\u001b[1;32m      7\u001b[0m         \u001b[39mprint\u001b[39m(mode[\u001b[39m'\u001b[39m\u001b[39minfo_dict\u001b[39m\u001b[39m'\u001b[39m][:\u001b[39m5\u001b[39m])\n",
      "Cell \u001b[0;32mIn[4], line 55\u001b[0m, in \u001b[0;36mrun_simulation\u001b[0;34m(mean_degree, structure_name)\u001b[0m\n\u001b[1;32m     52\u001b[0m             simulation_run_reversable\u001b[39m.\u001b[39mappend(_[\u001b[39m0\u001b[39m])\n\u001b[1;32m     53\u001b[0m             simulation_run_irreversable\u001b[39m.\u001b[39mappend(_[\u001b[39m1\u001b[39m])\n\u001b[0;32m---> 55\u001b[0m final_dict_reversable \u001b[39m=\u001b[39m {k : [] \u001b[39mfor\u001b[39;00m k \u001b[39min\u001b[39;00m \u001b[39mlist\u001b[39m(_\u001b[39m.\u001b[39;49mkeys())}\n\u001b[1;32m     56\u001b[0m \u001b[39mfor\u001b[39;00m key \u001b[39min\u001b[39;00m final_dict_reversable\u001b[39m.\u001b[39mkeys():\n\u001b[1;32m     57\u001b[0m     \u001b[39mfor\u001b[39;00m simulation_dict \u001b[39min\u001b[39;00m simulation_run_reversable: \n",
      "\u001b[0;31mAttributeError\u001b[0m: 'tuple' object has no attribute 'keys'"
     ]
    }
   ],
   "source": [
    "graph_name = \"random_geometric\"\n",
    "for degree in geometric_graph_conf['mean_degrees']: \n",
    "    print(f\"simulation run for mean degree {degree}\")\n",
    "    simulation_run = run_simulation(degree, graph_name)\n",
    "    \n",
    "    for mode in simulation_run: \n",
    "        print(mode['info_dict'][:5])\n",
    "        plot_results(mode, graph_name)"
   ]
  },
  {
   "cell_type": "code",
   "execution_count": null,
   "metadata": {},
   "outputs": [],
   "source": [
    "degrees_list = []\n",
    "for run in simulation_run['info_dict']:\n",
    "    degrees_list.extend(run['degree_list'])\n",
    "\n",
    "sns.displot(degrees_list)\n",
    "plt.title(\"degree distribution plot for random geometric graph\")\n",
    "plt.xlabel(\"degree\")\n",
    "plt.ylabel(\"count density\")"
   ]
  },
  {
   "attachments": {},
   "cell_type": "markdown",
   "metadata": {},
   "source": [
    "IRREVERSABLE GEOMETRIC GRAPH SIMULATION"
   ]
  },
  {
   "cell_type": "code",
   "execution_count": null,
   "metadata": {},
   "outputs": [],
   "source": [
    "\"\"\"graph_name = \"random_geometric\"\n",
    "for degree in conf['mean_degrees']: \n",
    "    print(f\"simulation run for mean degree {degree}\")\n",
    "    simulation_run = run_simulation(\"irreversable\",degree, graph_name)\n",
    "    print(simulation_run['info_dict'][:5])\n",
    "    plot_results(simulation_run, graph_name)\"\"\""
   ]
  },
  {
   "attachments": {},
   "cell_type": "markdown",
   "metadata": {},
   "source": [
    "Results for reversable albert simulation "
   ]
  },
  {
   "cell_type": "code",
   "execution_count": null,
   "metadata": {},
   "outputs": [],
   "source": [
    "graph_name = \"barabasi_albert\"\n",
    "for degree in conf['mean_degrees']: \n",
    "    print(f\"simulation run for mean degree {degree}\")\n",
    "    simulation_run = run_simulation(\"reversable\",degree, graph_name)\n",
    "    print(simulation_run['info_dict'][:30])\n",
    "    plot_results(simulation_run, graph_name)"
   ]
  },
  {
   "cell_type": "code",
   "execution_count": null,
   "metadata": {},
   "outputs": [],
   "source": [
    "simulation_put = []\n",
    "removed_len = []\n",
    "for run in simulation_run['fraction_infected_list']:\n",
    "    first_val = run[0]\n",
    "    runer = [x for x in run if x > 0.03]\n",
    "    removed_len = len(run) - len(runer)\n",
    "    #simulation_put.append(runer)\n",
    "    print(removed_len)\n",
    "    removed_len.append(removed_len)"
   ]
  },
  {
   "cell_type": "code",
   "execution_count": null,
   "metadata": {},
   "outputs": [],
   "source": [
    "\n",
    "\n",
    "def plot_results(lister, structure_name : str ):\n",
    "    for iter in lister:\n",
    "        #print(iter['info_dict'])\n",
    "        timesteps_list = [x for x in range(len(iter))]\n",
    "        #try:\n",
    "        #    p, cov = curve_fit(logistic, timesteps_list, iter)\n",
    "        #    logistic_curve_data = logistic(timesteps_list, *p)\n",
    "        #except:\n",
    "        #    pass\n",
    "        plt.plot(timesteps_list, iter, )#label = f\"average simulated saturation across {len(result['timesteps_saturation'])} runs\")\n",
    "    #plt.plot(timesteps_list, logistic_curve_data, label = \"fitted logistic\")\n",
    "    #plt.title(\n",
    "    #    f\"saturation curve for {structure_name}     modality: {results_dict['info_dict'][0]['modality']}    mean degree: {round(results_dict['info_dict'][0]['average_degree'], 2)}\")\n",
    "    \n",
    "    plt.xlabel(\"number simulation timesteps\")\n",
    "    plt.ylabel(\"fraction of giant graph infected\")\n",
    "    plt.legend()\n",
    "    plt.show()"
   ]
  },
  {
   "cell_type": "code",
   "execution_count": null,
   "metadata": {},
   "outputs": [],
   "source": []
  },
  {
   "cell_type": "code",
   "execution_count": null,
   "metadata": {},
   "outputs": [],
   "source": [
    "plot_results(simulation_put, \"foo\")"
   ]
  },
  {
   "cell_type": "code",
   "execution_count": null,
   "metadata": {},
   "outputs": [],
   "source": [
    "degrees_list = []\n",
    "for run in simulation_run['info_dict']:\n",
    "    degrees_list.extend(run['degree_list'])\n",
    "\n",
    "sns.displot(degrees_list)\n",
    "plt.title(\"degree distribution plot for barabassi albert graph\")\n",
    "plt.xlabel(\"degree\")\n",
    "plt.ylabel(\"count density\")"
   ]
  },
  {
   "attachments": {},
   "cell_type": "markdown",
   "metadata": {},
   "source": [
    "Results for irreversable albert simulation "
   ]
  },
  {
   "cell_type": "code",
   "execution_count": null,
   "metadata": {},
   "outputs": [],
   "source": [
    "graph_name = \"barabasi_albert\"\n",
    "for degree in conf['mean_degrees']: \n",
    "    print(f\"simulation run for mean degree {degree}\")\n",
    "    simulation_run = run_simulation(\"irreversable\",degree, graph_name)\n",
    "    print(simulation_run['info_dict'][:30])\n",
    "    plot_results(simulation_run, graph_name)"
   ]
  }
 ],
 "metadata": {
  "kernelspec": {
   "display_name": "thesis",
   "language": "python",
   "name": "python3"
  },
  "language_info": {
   "codemirror_mode": {
    "name": "ipython",
    "version": 3
   },
   "file_extension": ".py",
   "mimetype": "text/x-python",
   "name": "python",
   "nbconvert_exporter": "python",
   "pygments_lexer": "ipython3",
   "version": "3.9.16"
  },
  "orig_nbformat": 4,
  "vscode": {
   "interpreter": {
    "hash": "7f4ac81b54cc070fb6ec86bfcdf564e6ec7d00cea191a8fa9c365c929f541660"
   }
  }
 },
 "nbformat": 4,
 "nbformat_minor": 2
}

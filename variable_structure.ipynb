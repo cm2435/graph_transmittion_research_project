{
 "cells": [
  {
   "cell_type": "code",
   "execution_count": 1,
   "metadata": {},
   "outputs": [],
   "source": [
    "import numpy as np\n",
    "import pandas as pd\n",
    "import random\n",
    "import tqdm\n",
    "from scipy.optimize import curve_fit\n",
    "import matplotlib.pyplot as plt\n",
    "import seaborn as sns \n",
    "import yaml\n",
    "from pathlib import Path\n",
    "\n",
    "from util.functions import logistic\n",
    "from structure_generation.path_connection_gen import ProceduralGraphGenerator, StatsUtils, GraphStructureGenerator\n",
    "\n",
    "\n"
   ]
  },
  {
   "cell_type": "code",
   "execution_count": 2,
   "metadata": {},
   "outputs": [],
   "source": [
    "conf = yaml.safe_load(Path('config.yml').read_text())['reachability']"
   ]
  },
  {
   "cell_type": "code",
   "execution_count": 3,
   "metadata": {},
   "outputs": [],
   "source": [
    "geometric_graph_conf = conf"
   ]
  },
  {
   "cell_type": "code",
   "execution_count": 4,
   "metadata": {},
   "outputs": [
    {
     "data": {
      "text/plain": [
       "{'num_simulation_runs': 20,\n",
       " 'mean_degrees': [2, 5, 10, 15, 20],\n",
       " 'nodes': 100,\n",
       " 'structure_names': ['random_geometric', 'barabasi_albert']}"
      ]
     },
     "execution_count": 4,
     "metadata": {},
     "output_type": "execute_result"
    }
   ],
   "source": [
    "geometric_graph_conf"
   ]
  },
  {
   "cell_type": "code",
   "execution_count": 5,
   "metadata": {},
   "outputs": [],
   "source": [
    "import multiprocessing, itertools"
   ]
  },
  {
   "cell_type": "code",
   "execution_count": 11,
   "metadata": {},
   "outputs": [],
   "source": [
    "def run_simulation(modality : str, structure_num : int):\n",
    "    results_dict_list = []\n",
    "    for degree in geometric_graph_conf['mean_degrees']:\n",
    "        results_dict = {\n",
    "            \"timesteps_saturation\" : [],\n",
    "            \"fraction_infected_list\" : [],\n",
    "            \"info_dict\" : []\n",
    "        }\n",
    "        print(f\"simulation run for degree {degree}\")\n",
    "        for i, repeat in tqdm.tqdm(enumerate(range(conf['num_simulation_runs']))):\n",
    "            graphgen = GraphStructureGenerator(\n",
    "                structure_name=geometric_graph_conf['structure_names'][structure_num], \n",
    "                num_nodes=int(geometric_graph_conf['nodes']), \n",
    "                target_mean_degree = degree\n",
    "            )\n",
    "            graph = graphgen.initial_adj_matrix\n",
    "            graph_rand = graphgen.get_graph_structure().initial_adj_matrix\n",
    "\n",
    "            x = ProceduralGraphGenerator(graph)\n",
    "            infection_matrix_list, timesteps_saturation, fraction_infected_list, info_dict = x.infect_till_saturation(\n",
    "                modality=modality, verbose= False\n",
    "            )\n",
    "\n",
    "            results_dict[\"timesteps_saturation\"].append(timesteps_saturation)\n",
    "            results_dict[\"fraction_infected_list\"].append(fraction_infected_list)\n",
    "            results_dict[\"info_dict\"].append(info_dict)\n",
    "        \n",
    "        results_dict_list.append(results_dict)\n",
    "    return results_dict_list\n",
    "    \n",
    "def clean_results(results_dict_list : list):\n",
    "    import itertools\n",
    "    for result in tqdm.tqdm(results_dict_list): \n",
    "        for key in result.keys():\n",
    "            if key == \"fraction_infected_list\":\n",
    "                # Pad the list to ones to the longest saturation length, find the mean across all simulations and the std at each timestep\n",
    "                padded_list = np.array(\n",
    "                    list(zip(*itertools.zip_longest(*result[key], fillvalue=1)))\n",
    "                )\n",
    "                result[key] = padded_list\n",
    "                #result[key] = np.mean(padded_list, axis=0)\n",
    "            if key == \"info_dict\":\n",
    "                info_dict_temp = {k : None for k in result['info_dict'][0].keys()}\n",
    "                for key in info_dict_temp.keys():\n",
    "                    if key == \"modality\":\n",
    "                        info_dict_temp[key] = result['info_dict'][0]['modality']\n",
    "                    else:\n",
    "                        info_dict_temp[key] = np.average([x[key] for x in result['info_dict']])\n",
    "                result['info_dict'] = info_dict_temp\n",
    "            \n",
    "        result['average_timesteps'] = np.average(result['timesteps_saturation'])\n",
    "    return results_dict_list   \n",
    "\n",
    "def plot_results(results_dict_list):\n",
    "    for i, result in enumerate(results_dict_list): \n",
    "        print(result['info_dict'])\n",
    "        for iter in result['fraction_infected_list']:\n",
    "            timesteps_list = [x for x in range(len(iter))]\n",
    "            try:\n",
    "                p, cov = curve_fit(logistic, timesteps_list, iter)\n",
    "                logistic_curve_data = logistic(timesteps_list, *p)\n",
    "            except:\n",
    "                pass\n",
    "            plt.plot(timesteps_list, iter, )#label = f\"average simulated saturation across {len(result['timesteps_saturation'])} runs\")\n",
    "        #plt.plot(timesteps_list, logistic_curve_data, label = \"fitted logistic\")\n",
    "        plt.title(f\"saturation curve for {geometric_graph_conf['structure_name']} modality: {result['info_dict']['modality']} mean degree: {round(result['info_dict']['average_degree'], 2)}\")\n",
    "        plt.legend()\n",
    "        plt.show()"
   ]
  },
  {
   "attachments": {},
   "cell_type": "markdown",
   "metadata": {},
   "source": [
    "REVERSABLE GEOMETRIC GRAPH SIMULATION"
   ]
  },
  {
   "cell_type": "code",
   "execution_count": 16,
   "metadata": {},
   "outputs": [
    {
     "name": "stdout",
     "output_type": "stream",
     "text": [
      "[2, 5, 10, 15, 20]\n",
      "simulation run for degree 2\n"
     ]
    },
    {
     "name": "stderr",
     "output_type": "stream",
     "text": [
      "20it [00:08,  2.29it/s]\n"
     ]
    },
    {
     "name": "stdout",
     "output_type": "stream",
     "text": [
      "simulation run for degree 5\n"
     ]
    },
    {
     "name": "stderr",
     "output_type": "stream",
     "text": [
      "20it [00:27,  1.36s/it]\n"
     ]
    },
    {
     "name": "stdout",
     "output_type": "stream",
     "text": [
      "simulation run for degree 10\n"
     ]
    },
    {
     "name": "stderr",
     "output_type": "stream",
     "text": [
      "20it [00:34,  1.74s/it]\n"
     ]
    },
    {
     "name": "stdout",
     "output_type": "stream",
     "text": [
      "simulation run for degree 15\n"
     ]
    },
    {
     "name": "stderr",
     "output_type": "stream",
     "text": [
      "20it [00:14,  1.41it/s]\n"
     ]
    },
    {
     "name": "stdout",
     "output_type": "stream",
     "text": [
      "simulation run for degree 20\n"
     ]
    },
    {
     "name": "stderr",
     "output_type": "stream",
     "text": [
      "20it [00:14,  1.36it/s]\n"
     ]
    }
   ],
   "source": [
    "results_dict_list_geometric_reversable = run_simulation(\"reversable\", 0)"
   ]
  },
  {
   "cell_type": "code",
   "execution_count": 17,
   "metadata": {},
   "outputs": [
    {
     "name": "stderr",
     "output_type": "stream",
     "text": [
      "100%|██████████| 5/5 [00:00<00:00, 450.07it/s]\n"
     ]
    }
   ],
   "source": [
    "cleaned_results_dict_list_geometric_reversabble = clean_results(results_dict_list_geometric_reversable)"
   ]
  },
  {
   "cell_type": "code",
   "execution_count": 18,
   "metadata": {},
   "outputs": [
    {
     "name": "stdout",
     "output_type": "stream",
     "text": [
      "{'average_degree': 3.058516094357769, 'num_nodes': 17.1, 'modality': 'reversable', 'clustering_coefficient': 0.49074515047646494, 'degree_assortivity': 0.17330836405338462, 'mean_shortest_pathlength': 3.5493015605206937}\n"
     ]
    },
    {
     "ename": "KeyError",
     "evalue": "'structure_name'",
     "output_type": "error",
     "traceback": [
      "\u001b[0;31m---------------------------------------------------------------------------\u001b[0m",
      "\u001b[0;31mKeyError\u001b[0m                                  Traceback (most recent call last)",
      "Cell \u001b[0;32mIn[18], line 1\u001b[0m\n\u001b[0;32m----> 1\u001b[0m plot_results(cleaned_results_dict_list_geometric_reversabble)\n",
      "Cell \u001b[0;32mIn[11], line 67\u001b[0m, in \u001b[0;36mplot_results\u001b[0;34m(results_dict_list)\u001b[0m\n\u001b[1;32m     65\u001b[0m     plt\u001b[39m.\u001b[39mplot(timesteps_list, \u001b[39miter\u001b[39m, )\u001b[39m#label = f\"average simulated saturation across {len(result['timesteps_saturation'])} runs\")\u001b[39;00m\n\u001b[1;32m     66\u001b[0m \u001b[39m#plt.plot(timesteps_list, logistic_curve_data, label = \"fitted logistic\")\u001b[39;00m\n\u001b[0;32m---> 67\u001b[0m plt\u001b[39m.\u001b[39mtitle(\u001b[39mf\u001b[39m\u001b[39m\"\u001b[39m\u001b[39msaturation curve for \u001b[39m\u001b[39m{\u001b[39;00mgeometric_graph_conf[\u001b[39m'\u001b[39;49m\u001b[39mstructure_name\u001b[39;49m\u001b[39m'\u001b[39;49m]\u001b[39m}\u001b[39;00m\u001b[39m modality: \u001b[39m\u001b[39m{\u001b[39;00mresult[\u001b[39m'\u001b[39m\u001b[39minfo_dict\u001b[39m\u001b[39m'\u001b[39m][\u001b[39m'\u001b[39m\u001b[39mmodality\u001b[39m\u001b[39m'\u001b[39m]\u001b[39m}\u001b[39;00m\u001b[39m mean degree: \u001b[39m\u001b[39m{\u001b[39;00m\u001b[39mround\u001b[39m(result[\u001b[39m'\u001b[39m\u001b[39minfo_dict\u001b[39m\u001b[39m'\u001b[39m][\u001b[39m'\u001b[39m\u001b[39maverage_degree\u001b[39m\u001b[39m'\u001b[39m],\u001b[39m \u001b[39m\u001b[39m2\u001b[39m)\u001b[39m}\u001b[39;00m\u001b[39m\"\u001b[39m)\n\u001b[1;32m     68\u001b[0m plt\u001b[39m.\u001b[39mlegend()\n\u001b[1;32m     69\u001b[0m plt\u001b[39m.\u001b[39mshow()\n",
      "\u001b[0;31mKeyError\u001b[0m: 'structure_name'"
     ]
    },
    {
     "data": {
      "image/png": "[encoded data removed]",
      "text/plain": [
       "<Figure size 640x480 with 1 Axes>"
      ]
     },
     "metadata": {},
     "output_type": "display_data"
    }
   ],
   "source": [
    "plot_results(cleaned_results_dict_list_geometric_reversabble)"
   ]
  },
  {
   "attachments": {},
   "cell_type": "markdown",
   "metadata": {},
   "source": [
    "IRREVERSABLE GEOMETRIC GRAPH SIMULATION"
   ]
  },
  {
   "cell_type": "code",
   "execution_count": null,
   "metadata": {},
   "outputs": [],
   "source": [
    "results_dict_list_geometric_reversable = run_simulation(\"irreversable\", 0)"
   ]
  },
  {
   "cell_type": "code",
   "execution_count": null,
   "metadata": {},
   "outputs": [],
   "source": [
    "cleaned_results_dict_list_geometric_reversabble = clean_results(results_dict_list_geometric_reversable)"
   ]
  },
  {
   "cell_type": "code",
   "execution_count": null,
   "metadata": {},
   "outputs": [],
   "source": [
    "plot_results(cleaned_results_dict_list_geometric_reversabble)"
   ]
  },
  {
   "cell_type": "code",
   "execution_count": null,
   "metadata": {},
   "outputs": [],
   "source": [
    "import itertools\n",
    "for result in tqdm.tqdm(results_dict_list): \n",
    "    for key in result.keys():\n",
    "        if key == \"fraction_infected_list\":\n",
    "            # Pad the list to ones to the longest saturation length, find the mean across all simulations and the std at each timestep\n",
    "            padded_list = np.array(\n",
    "                list(zip(*itertools.zip_longest(*result[key], fillvalue=1)))\n",
    "            )\n",
    "            result[key] = padded_list\n",
    "            #result[key] = np.mean(padded_list, axis=0)\n",
    "        if key == \"info_dict\":\n",
    "            info_dict_temp = {k : None for k in result['info_dict'][0].keys()}\n",
    "            for key in info_dict_temp.keys():\n",
    "                if key == \"modality\":\n",
    "                    info_dict_temp[key] = result['info_dict'][0]['modality']\n",
    "                else:\n",
    "                    info_dict_temp[key] = np.average([x[key] for x in result['info_dict']])\n",
    "            result['info_dict'] = info_dict_temp\n",
    "        \n",
    "    result['average_timesteps'] = np.average(result['timesteps_saturation'])"
   ]
  },
  {
   "cell_type": "code",
   "execution_count": null,
   "metadata": {},
   "outputs": [],
   "source": [
    "result['info_dict']"
   ]
  },
  {
   "cell_type": "code",
   "execution_count": null,
   "metadata": {},
   "outputs": [],
   "source": [
    "for i, result in enumerate(results_dict_list): \n",
    "    print(result['info_dict'])\n",
    "    for iter in result['fraction_infected_list']:\n",
    "        timesteps_list = [x for x in range(len(iter))]\n",
    "        try:\n",
    "            p, cov = curve_fit(logistic, timesteps_list, iter)\n",
    "            logistic_curve_data = logistic(timesteps_list, *p)\n",
    "        except:\n",
    "            pass\n",
    "        plt.plot(timesteps_list, iter, )#label = f\"average simulated saturation across {len(result['timesteps_saturation'])} runs\")\n",
    "    #plt.plot(timesteps_list, logistic_curve_data, label = \"fitted logistic\")\n",
    "    plt.title(f\"saturation curve for {geometric_graph_conf['structure_name']} modality: {result['info_dict']['modality']} mean degree: {round(result['info_dict']['average_degree'], 2)}\")\n",
    "    plt.legend()\n",
    "    plt.show()"
   ]
  },
  {
   "cell_type": "code",
   "execution_count": null,
   "metadata": {},
   "outputs": [],
   "source": [
    "results_dict_list = []\n",
    "modality = \"irreversable\"\n",
    "for graph_rad in geometric_graph_conf['graph_edge_radii']:\n",
    "    results_dict = {\n",
    "        \"timesteps_saturation\" : [],\n",
    "        \"fraction_infected_list\" : [],\n",
    "        \"info_dict\" : []\n",
    "    }\n",
    "    print(f\"simulation run for graph radius {graph_rad}\")\n",
    "    mean_degree_simulation_runs = []\n",
    "    for i, repeat in tqdm.tqdm(enumerate(range(conf['num_simulation_runs']))):\n",
    "        graphgen = GraphStructureGenerator(\n",
    "            structure_name=geometric_graph_conf['structure_name'], \n",
    "            num_nodes=int(geometric_graph_conf['nodes']), \n",
    "            graph_edge_radius = float(graph_rad)\n",
    "        )\n",
    "        graph = graphgen.initial_adj_matrix\n",
    "        graph_rand = graphgen.get_graph_structure().initial_adj_matrix\n",
    "\n",
    "        x = ProceduralGraphGenerator(graph)\n",
    "        infection_matrix_list, timesteps_saturation, fraction_infected_list, info_dict = x.infect_till_saturation(\n",
    "            modality=modality, verbose= False\n",
    "        )\n",
    "\n",
    "        results_dict[\"timesteps_saturation\"].append(timesteps_saturation)\n",
    "        results_dict[\"fraction_infected_list\"].append(fraction_infected_list)\n",
    "        results_dict[\"info_dict\"].append(info_dict)\n",
    "    \n",
    "    results_dict_list.append(results_dict)"
   ]
  },
  {
   "cell_type": "code",
   "execution_count": null,
   "metadata": {},
   "outputs": [],
   "source": [
    "import itertools\n",
    "for result in tqdm.tqdm(results_dict_list): \n",
    "    for key in result.keys():\n",
    "        if key == \"fraction_infected_list\":\n",
    "            # Pad the list to ones to the longest saturation length, find the mean across all simulations and the std at each timestep\n",
    "            padded_list = np.array(\n",
    "                list(zip(*itertools.zip_longest(*result[key], fillvalue=1)))\n",
    "            )\n",
    "            result[key] = padded_list\n",
    "            #result[key] = np.mean(padded_list, axis=0)\n",
    "        if key == \"info_dict\":\n",
    "            info_dict_temp = {k : None for k in result['info_dict'][0].keys()}\n",
    "            for key in info_dict_temp.keys():\n",
    "                if key == \"modality\":\n",
    "                    info_dict_temp[key] = result['info_dict'][0]['modality']\n",
    "                else:\n",
    "                    info_dict_temp[key] = np.average([x[key] for x in result['info_dict']])\n",
    "            result['info_dict'] = info_dict_temp\n",
    "        \n",
    "    result['average_timesteps'] = np.average(result['timesteps_saturation'])"
   ]
  },
  {
   "cell_type": "code",
   "execution_count": null,
   "metadata": {},
   "outputs": [],
   "source": [
    "for i, result in enumerate(results_dict_list): \n",
    "    print(result['info_dict'])\n",
    "    for iter in result['fraction_infected_list']:\n",
    "        timesteps_list = [x for x in range(len(iter))]\n",
    "        try:\n",
    "            p, cov = curve_fit(logistic, timesteps_list, iter)\n",
    "            logistic_curve_data = logistic(timesteps_list, *p)\n",
    "        except:\n",
    "            pass\n",
    "        plt.plot(timesteps_list, iter, )#label = f\"average simulated saturation across {len(result['timesteps_saturation'])} runs\")\n",
    "    #plt.plot(timesteps_list, logistic_curve_data, label = \"fitted logistic\")\n",
    "    plt.title(f\"saturation curve for {geometric_graph_conf['structure_name']} modality: {result['info_dict']['modality']} mean degree: {round(result['info_dict']['average_degree'], 2)}\")\n",
    "    plt.legend()\n",
    "    plt.show()"
   ]
  },
  {
   "cell_type": "code",
   "execution_count": null,
   "metadata": {},
   "outputs": [],
   "source": [
    "albert_graph_config = conf['barabasi_albert']\n",
    "albert_graph_config"
   ]
  },
  {
   "cell_type": "code",
   "execution_count": null,
   "metadata": {},
   "outputs": [],
   "source": [
    "results_dict_list = []\n",
    "modality = \"reversable\"\n",
    "for node_degree in albert_graph_config['node_degree']:\n",
    "    results_dict = {\n",
    "        \"timesteps_saturation\" : [],\n",
    "        \"fraction_infected_list\" : [],\n",
    "        \"info_dict\" : []\n",
    "    }\n",
    "    print(f\"simulation run for graph degree {node_degree}\")\n",
    "    mean_degree_simulation_runs = []\n",
    "    for i, repeat in tqdm.tqdm(enumerate(range(conf['num_simulation_runs']))):\n",
    "        graphgen = GraphStructureGenerator(\n",
    "            structure_name=albert_graph_config['structure_name'], \n",
    "            num_nodes=int(albert_graph_config['nodes']), \n",
    "            node_degree = int(node_degree)\n",
    "        )\n",
    "        graph = graphgen.initial_adj_matrix\n",
    "        graph_rand = graphgen.get_graph_structure().initial_adj_matrix\n",
    "\n",
    "        x = ProceduralGraphGenerator(graph)\n",
    "        infection_matrix_list, timesteps_saturation, fraction_infected_list, info_dict = x.infect_till_saturation(\n",
    "            modality=modality, verbose= False\n",
    "        )\n",
    "\n",
    "        results_dict[\"timesteps_saturation\"].append(timesteps_saturation)\n",
    "        results_dict[\"fraction_infected_list\"].append(fraction_infected_list)\n",
    "        results_dict[\"info_dict\"].append(info_dict)\n",
    "    \n",
    "    results_dict_list.append(results_dict)"
   ]
  },
  {
   "cell_type": "code",
   "execution_count": null,
   "metadata": {},
   "outputs": [],
   "source": [
    "import itertools\n",
    "for result in tqdm.tqdm(results_dict_list): \n",
    "    for key in result.keys():\n",
    "        if key == \"fraction_infected_list\":\n",
    "            # Pad the list to ones to the longest saturation length, find the mean across all simulations and the std at each timestep\n",
    "            padded_list = np.array(\n",
    "                list(zip(*itertools.zip_longest(*result[key], fillvalue=1)))\n",
    "            )\n",
    "            result[key] = padded_list\n",
    "            #result[key] = np.mean(padded_list, axis=0)\n",
    "        if key == \"info_dict\":\n",
    "            info_dict_temp = {k : None for k in result['info_dict'][0].keys()}\n",
    "            for key in info_dict_temp.keys():\n",
    "                if key == \"modality\":\n",
    "                    info_dict_temp[key] = result['info_dict'][0]['modality']\n",
    "                else:\n",
    "                    info_dict_temp[key] = np.average([x[key] for x in result['info_dict']])\n",
    "            result['info_dict'] = info_dict_temp\n",
    "        \n",
    "    result['average_timesteps'] = np.average(result['timesteps_saturation'])"
   ]
  },
  {
   "cell_type": "code",
   "execution_count": null,
   "metadata": {},
   "outputs": [],
   "source": [
    "for i, result in enumerate(results_dict_list): \n",
    "    for iter in result['fraction_infected_list']:\n",
    "        timesteps_list = [x for x in range(len(iter))]\n",
    "        try:\n",
    "            p, cov = curve_fit(logistic, timesteps_list, iter)\n",
    "            logistic_curve_data = logistic(timesteps_list, *p)\n",
    "        except:\n",
    "            pass\n",
    "        plt.plot(timesteps_list, iter, )#label = f\"average simulated saturation across {len(result['timesteps_saturation'])} runs\")\n",
    "    #plt.plot(timesteps_list, logistic_curve_data, label = \"fitted logistic\")\n",
    "    plt.title(f\"saturation curve for {albert_graph_config['structure_name']} modality: {result['info_dict']['modality']} mean degree: {round(result['info_dict']['average_degree'], 2)}\")\n",
    "    plt.legend()\n",
    "    plt.show()"
   ]
  },
  {
   "cell_type": "code",
   "execution_count": null,
   "metadata": {},
   "outputs": [],
   "source": [
    "results_dict_list = []\n",
    "modality = \"irreversable\"\n",
    "for node_degree in albert_graph_config['node_degree']:\n",
    "    results_dict = {\n",
    "        \"timesteps_saturation\" : [],\n",
    "        \"fraction_infected_list\" : [],\n",
    "        \"info_dict\" : []\n",
    "    }\n",
    "    print(f\"simulation run for graph degree {node_degree}\")\n",
    "    mean_degree_simulation_runs = []\n",
    "    for i, repeat in tqdm.tqdm(enumerate(range(conf['num_simulation_runs']))):\n",
    "        graphgen = GraphStructureGenerator(\n",
    "            structure_name=albert_graph_config['structure_name'], \n",
    "            num_nodes=int(albert_graph_config['nodes']), \n",
    "            node_degree = int(node_degree)\n",
    "        )\n",
    "        graph = graphgen.initial_adj_matrix\n",
    "        graph_rand = graphgen.get_graph_structure().initial_adj_matrix\n",
    "\n",
    "        x = ProceduralGraphGenerator(graph)\n",
    "        infection_matrix_list, timesteps_saturation, fraction_infected_list, info_dict = x.infect_till_saturation(\n",
    "            modality=modality, verbose= False\n",
    "        )\n",
    "\n",
    "        results_dict[\"timesteps_saturation\"].append(timesteps_saturation)\n",
    "        results_dict[\"fraction_infected_list\"].append(fraction_infected_list)\n",
    "        results_dict[\"info_dict\"].append(info_dict)\n",
    "    \n",
    "    results_dict_list.append(results_dict)"
   ]
  },
  {
   "cell_type": "code",
   "execution_count": null,
   "metadata": {},
   "outputs": [],
   "source": [
    "import itertools\n",
    "for result in tqdm.tqdm(results_dict_list): \n",
    "    for key in result.keys():\n",
    "        if key == \"fraction_infected_list\":\n",
    "            # Pad the list to ones to the longest saturation length, find the mean across all simulations and the std at each timestep\n",
    "            padded_list = np.array(\n",
    "                list(zip(*itertools.zip_longest(*result[key], fillvalue=1)))\n",
    "            )\n",
    "            result[key] = np.mean(padded_list, axis=0)\n",
    "        if key == \"info_dict\":\n",
    "            info_dict_temp = {k : None for k in result['info_dict'][0].keys()}\n",
    "            for key in info_dict_temp.keys():\n",
    "                if key == \"modality\":\n",
    "                    info_dict_temp[key] = result['info_dict'][0]['modality']\n",
    "                else:\n",
    "                    info_dict_temp[key] = np.average([x[key] for x in result['info_dict']])\n",
    "            result['info_dict'] = info_dict_temp\n",
    "        \n",
    "    result['average_timesteps'] = np.average(result['timesteps_saturation'])"
   ]
  },
  {
   "cell_type": "code",
   "execution_count": null,
   "metadata": {},
   "outputs": [],
   "source": [
    "for result in results_dict_list: \n",
    "    timesteps_list = [x for x in range(len(result['fraction_infected_list']))]\n",
    "\n",
    "    p, cov = curve_fit(logistic, timesteps_list, result['fraction_infected_list'])\n",
    "    logistic_curve_data = logistic(timesteps_list, *p)\n",
    "    print(\"run statistics\")\n",
    "    print(result['info_dict'])\n",
    "    plt.plot(timesteps_list, result['fraction_infected_list'], label = f\"average simulated saturation across {len(result['timesteps_saturation'])} runs\")\n",
    "    plt.plot(timesteps_list, logistic_curve_data, label = \"fitted logistic\")\n",
    "    plt.title(f\"saturation curve for modality {result['info_dict']['modality']} mean degree {round(result['info_dict']['average_degree'], 2)}\")\n",
    "    plt.legend()\n",
    "    plt.show()"
   ]
  },
  {
   "cell_type": "code",
   "execution_count": null,
   "metadata": {},
   "outputs": [],
   "source": [
    "try: \n",
    "            #Fit a logistic curve to the simulated infection data for one simulation run, generate data with this logistic, use to find residuals in fit\n",
    "            p, cov = curve_fit(logistic, timesteps, fraction_infected_list)\n",
    "            logistic_curve_data = logistic(timesteps, *p)\n",
    "            residuals_dict[graph_rad].extend(fraction_infected_list - logistic_curve_data)\n",
    "            mean_degree_simulation_runs.append(average_degree)\n",
    "        except RuntimeError as e:\n",
    "            print(e)\n",
    "            pass \n",
    "    average_degrees.append(np.mean(mean_degree_simulation_runs))\n",
    "\n",
    "#Update keys of dictionary so that keys are the (averaged) mean degree of the simulations networks\n",
    "residuals_dict = {k : v for k,v in list(zip(average_degrees, residuals_dict.values()))}\n",
    "least_noisy_data = residuals_dict\n",
    "for key in residuals_dict.keys(): \n",
    "    sns.kdeplot(residuals_dict[key], label=f\"mean degree : {round(key, 2)}\")\n",
    "plt.legend()\n",
    "plt.show()"
   ]
  }
 ],
 "metadata": {
  "kernelspec": {
   "display_name": "thesis",
   "language": "python",
   "name": "python3"
  },
  "language_info": {
   "codemirror_mode": {
    "name": "ipython",
    "version": 3
   },
   "file_extension": ".py",
   "mimetype": "text/x-python",
   "name": "python",
   "nbconvert_exporter": "python",
   "pygments_lexer": "ipython3",
   "version": "3.9.16"
  },
  "orig_nbformat": 4,
  "vscode": {
   "interpreter": {
    "hash": "7f4ac81b54cc070fb6ec86bfcdf564e6ec7d00cea191a8fa9c365c929f541660"
   }
  }
 },
 "nbformat": 4,
 "nbformat_minor": 2
}
